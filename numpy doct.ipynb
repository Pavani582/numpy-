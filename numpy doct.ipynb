{
 "cells": [
  {
   "cell_type": "code",
   "execution_count": 1,
   "id": "d81c0a9c-5af0-4439-80be-23e8d1fb92c9",
   "metadata": {},
   "outputs": [],
   "source": [
    "import numpy as np"
   ]
  },
  {
   "cell_type": "code",
   "execution_count": 2,
   "id": "eea75938-4c5b-4492-84cd-96fb408f4848",
   "metadata": {},
   "outputs": [
    {
     "data": {
      "text/plain": [
       "[2, 4, 56, 422, 32, 1]"
      ]
     },
     "execution_count": 2,
     "metadata": {},
     "output_type": "execute_result"
    }
   ],
   "source": [
    "l=[2,4,56,422,32,1]\n",
    "l"
   ]
  },
  {
   "cell_type": "code",
   "execution_count": 3,
   "id": "cfadbfaf-be73-44f6-b12b-714f749e6bd6",
   "metadata": {},
   "outputs": [
    {
     "data": {
      "text/plain": [
       "array([  2,   4,  56, 422,  32,   1])"
      ]
     },
     "execution_count": 3,
     "metadata": {},
     "output_type": "execute_result"
    }
   ],
   "source": [
    "l1=np.array(l)\n",
    "l1"
   ]
  },
  {
   "cell_type": "code",
   "execution_count": 4,
   "id": "e34102e9-c3dd-4ef9-9281-e88da915d3b9",
   "metadata": {},
   "outputs": [
    {
     "data": {
      "text/plain": [
       "array([  2,   4,  56, 422,  32,   1])"
      ]
     },
     "execution_count": 4,
     "metadata": {},
     "output_type": "execute_result"
    }
   ],
   "source": [
    "l1=np.array([2,4,56,422,32,1])\n",
    "l1"
   ]
  },
  {
   "cell_type": "code",
   "execution_count": 5,
   "id": "ed19aef3-bf7e-4057-aee8-32e255f3d1cc",
   "metadata": {},
   "outputs": [
    {
     "data": {
      "text/plain": [
       "list"
      ]
     },
     "execution_count": 5,
     "metadata": {},
     "output_type": "execute_result"
    }
   ],
   "source": [
    "type(l)"
   ]
  },
  {
   "cell_type": "code",
   "execution_count": 6,
   "id": "87517b89-18bf-4d31-af57-fd8cd90fca71",
   "metadata": {},
   "outputs": [
    {
     "data": {
      "text/plain": [
       "numpy.ndarray"
      ]
     },
     "execution_count": 6,
     "metadata": {},
     "output_type": "execute_result"
    }
   ],
   "source": [
    "type(l1)"
   ]
  },
  {
   "cell_type": "code",
   "execution_count": 7,
   "id": "8c0358f1-8bfa-4228-9642-c628efa2dac0",
   "metadata": {},
   "outputs": [
    {
     "name": "stdout",
     "output_type": "stream",
     "text": [
      "[2, 4, 56, 422, 32, 1]\n",
      "[  2   4  56 422  32   1]\n"
     ]
    }
   ],
   "source": [
    "print(l)\n",
    "print(l1)"
   ]
  },
  {
   "cell_type": "code",
   "execution_count": 8,
   "id": "0b6938e4-385b-4bad-b1a3-f9288d0ac85b",
   "metadata": {},
   "outputs": [
    {
     "data": {
      "text/plain": [
       "array([[45, 34, 22,  2],\n",
       "       [24, 55,  3, 22]])"
      ]
     },
     "execution_count": 8,
     "metadata": {},
     "output_type": "execute_result"
    }
   ],
   "source": [
    "a=[45,34,22,2]\n",
    "b=[24,55,3,22]\n",
    "new=np.array([a,b])\n",
    "new"
   ]
  },
  {
   "cell_type": "code",
   "execution_count": 9,
   "id": "96250ae6-762b-41ec-93ae-6273765e1786",
   "metadata": {},
   "outputs": [
    {
     "ename": "TypeError",
     "evalue": "Field elements must be 2- or 3-tuples, got '24'",
     "output_type": "error",
     "traceback": [
      "\u001b[1;31m---------------------------------------------------------------------------\u001b[0m",
      "\u001b[1;31mTypeError\u001b[0m                                 Traceback (most recent call last)",
      "Cell \u001b[1;32mIn[9], line 1\u001b[0m\n\u001b[1;32m----> 1\u001b[0m new\u001b[38;5;241m=\u001b[39mnp\u001b[38;5;241m.\u001b[39marray([\u001b[38;5;241m45\u001b[39m,\u001b[38;5;241m34\u001b[39m,\u001b[38;5;241m22\u001b[39m,\u001b[38;5;241m2\u001b[39m],[\u001b[38;5;241m24\u001b[39m,\u001b[38;5;241m55\u001b[39m,\u001b[38;5;241m3\u001b[39m,\u001b[38;5;241m22\u001b[39m])\n\u001b[0;32m      2\u001b[0m new\n",
      "\u001b[1;31mTypeError\u001b[0m: Field elements must be 2- or 3-tuples, got '24'"
     ]
    }
   ],
   "source": [
    "new=np.array([45,34,22,2],[24,55,3,22])\n",
    "new"
   ]
  },
  {
   "cell_type": "code",
   "execution_count": 90,
   "id": "57942d7c-ca32-45d8-ac78-ecba66eeecbd",
   "metadata": {},
   "outputs": [
    {
     "data": {
      "text/plain": [
       "array([[45, 34, 22,  2],\n",
       "       [24, 55,  3, 22]])"
      ]
     },
     "execution_count": 90,
     "metadata": {},
     "output_type": "execute_result"
    }
   ],
   "source": [
    "new=np.array([[45,34,22,2],[24,55,3,22]])\n",
    "new"
   ]
  },
  {
   "cell_type": "code",
   "execution_count": 92,
   "id": "2665320d-1889-4188-99bd-a6f360018dd3",
   "metadata": {},
   "outputs": [
    {
     "data": {
      "text/plain": [
       "array([[[45, 34, 22,  2]],\n",
       "\n",
       "       [[24, 55,  3, 22]]])"
      ]
     },
     "execution_count": 92,
     "metadata": {},
     "output_type": "execute_result"
    }
   ],
   "source": [
    "a=[45,34,22,2]\n",
    "b=[24,55,3,22]\n",
    "new=np.array([[a],[b]])\n",
    "new"
   ]
  },
  {
   "cell_type": "code",
   "execution_count": 94,
   "id": "d0978774-7ff5-4d5f-984c-9233f6f6769c",
   "metadata": {},
   "outputs": [
    {
     "ename": "TypeError",
     "evalue": "Field elements must be 2- or 3-tuples, got '[24, 55, 3, 22]'",
     "output_type": "error",
     "traceback": [
      "\u001b[1;31m---------------------------------------------------------------------------\u001b[0m",
      "\u001b[1;31mTypeError\u001b[0m                                 Traceback (most recent call last)",
      "Cell \u001b[1;32mIn[94], line 3\u001b[0m\n\u001b[0;32m      1\u001b[0m a\u001b[38;5;241m=\u001b[39m[\u001b[38;5;241m45\u001b[39m,\u001b[38;5;241m34\u001b[39m,\u001b[38;5;241m22\u001b[39m,\u001b[38;5;241m2\u001b[39m]\n\u001b[0;32m      2\u001b[0m b\u001b[38;5;241m=\u001b[39m[\u001b[38;5;241m24\u001b[39m,\u001b[38;5;241m55\u001b[39m,\u001b[38;5;241m3\u001b[39m,\u001b[38;5;241m22\u001b[39m]\n\u001b[1;32m----> 3\u001b[0m new\u001b[38;5;241m=\u001b[39mnp\u001b[38;5;241m.\u001b[39marray([a],[b])\n\u001b[0;32m      4\u001b[0m new\n",
      "\u001b[1;31mTypeError\u001b[0m: Field elements must be 2- or 3-tuples, got '[24, 55, 3, 22]'"
     ]
    }
   ],
   "source": [
    "a=[45,34,22,2]\n",
    "b=[24,55,3,22]\n",
    "new=np.array([a],[b])\n",
    "new"
   ]
  },
  {
   "cell_type": "code",
   "execution_count": 96,
   "id": "9f2ef60f-ae13-4c8e-8b43-772cd535f596",
   "metadata": {},
   "outputs": [
    {
     "data": {
      "text/plain": [
       "array([[[  2,   3,  33,   4,  45]],\n",
       "\n",
       "       [[ 23,  45,  56,  66,   2]],\n",
       "\n",
       "       [[357, 523,  32,  24,   2]],\n",
       "\n",
       "       [[ 32,  32,  44, 333, 234]]])"
      ]
     },
     "execution_count": 96,
     "metadata": {},
     "output_type": "execute_result"
    }
   ],
   "source": [
    "a=[2,3,33,4,45]\n",
    "b=[23,45,56,66,2]\n",
    "c=[357,523,32,24,2]\n",
    "d=[32,32,44,333,234]\n",
    "s=np.array([[a],[b],[c],[d]])\n",
    "s"
   ]
  },
  {
   "cell_type": "code",
   "execution_count": 98,
   "id": "8e41cb64-ba51-44b4-8d6f-97b468cc0f52",
   "metadata": {},
   "outputs": [
    {
     "data": {
      "text/plain": [
       "array([[[  2,   3,  33,   4,  45],\n",
       "        [ 23,  45,  56,  66,   2],\n",
       "        [357, 523,  32,  24,   2],\n",
       "        [ 32,  32,  44, 333, 234]]])"
      ]
     },
     "execution_count": 98,
     "metadata": {},
     "output_type": "execute_result"
    }
   ],
   "source": [
    "a=[2,3,33,4,45]\n",
    "b=[23,45,56,66,2]\n",
    "c=[357,523,32,24,2]\n",
    "d=[32,32,44,333,234]\n",
    "s=np.array([[a,b,c,d]])\n",
    "s"
   ]
  },
  {
   "cell_type": "markdown",
   "id": "80bf68cc-ece2-4ab9-b266-2a6e8a0d00a4",
   "metadata": {},
   "source": [
    "# dtype"
   ]
  },
  {
   "cell_type": "code",
   "execution_count": 101,
   "id": "47dd51c9-4bda-4ca8-bd0a-119979fc0cd1",
   "metadata": {},
   "outputs": [
    {
     "data": {
      "text/plain": [
       "array([[ 2.,  3., 33.,  4., 45.]])"
      ]
     },
     "execution_count": 101,
     "metadata": {},
     "output_type": "execute_result"
    }
   ],
   "source": [
    "np.array([a],dtype=float)"
   ]
  },
  {
   "cell_type": "code",
   "execution_count": 103,
   "id": "a56783ce-fb8c-4a94-a980-e261a5a82f44",
   "metadata": {},
   "outputs": [
    {
     "data": {
      "text/plain": [
       "array([[ True,  True,  True,  True,  True]])"
      ]
     },
     "execution_count": 103,
     "metadata": {},
     "output_type": "execute_result"
    }
   ],
   "source": [
    "np.array([c],dtype=bool)"
   ]
  },
  {
   "cell_type": "code",
   "execution_count": 104,
   "id": "ea6d25f7-ec56-4d01-8e84-5587bb917492",
   "metadata": {},
   "outputs": [
    {
     "data": {
      "text/plain": [
       "array([[23.+0.j, 45.+0.j, 56.+0.j, 66.+0.j,  2.+0.j]])"
      ]
     },
     "execution_count": 104,
     "metadata": {},
     "output_type": "execute_result"
    }
   ],
   "source": [
    "np.array([b],dtype=complex)"
   ]
  },
  {
   "cell_type": "code",
   "execution_count": 107,
   "id": "52086793-9015-4d7e-814c-044041cf7aaa",
   "metadata": {},
   "outputs": [
    {
     "data": {
      "text/plain": [
       "array([[ 32,  32,  44, 333, 234]])"
      ]
     },
     "execution_count": 107,
     "metadata": {},
     "output_type": "execute_result"
    }
   ],
   "source": [
    "np.array([d],dtype=int)"
   ]
  },
  {
   "cell_type": "markdown",
   "id": "98d1fbc0-6edc-4bcd-a466-2a8c7e249cd4",
   "metadata": {},
   "source": [
    "# Numpy Arrays Vs Python Sequences"
   ]
  },
  {
   "cell_type": "markdown",
   "id": "c9dfe2ca-71e9-4928-af47-de81fb9ae35a",
   "metadata": {},
   "source": [
    "## arange"
   ]
  },
  {
   "cell_type": "code",
   "execution_count": 111,
   "id": "c3effca7-dedf-4c9a-a4c3-da6fc21b0544",
   "metadata": {},
   "outputs": [
    {
     "data": {
      "text/plain": [
       "array([ 1,  2,  3,  4,  5,  6,  7,  8,  9, 10, 11, 12])"
      ]
     },
     "execution_count": 111,
     "metadata": {},
     "output_type": "execute_result"
    }
   ],
   "source": [
    "np.arange(1,13)"
   ]
  },
  {
   "cell_type": "code",
   "execution_count": 113,
   "id": "ab94da26-77a5-47b6-a56d-4acb4689f579",
   "metadata": {},
   "outputs": [
    {
     "data": {
      "text/plain": [
       "array([ 1,  5,  9, 13, 17, 21])"
      ]
     },
     "execution_count": 113,
     "metadata": {},
     "output_type": "execute_result"
    }
   ],
   "source": [
    "np.arange(1,25,4)"
   ]
  },
  {
   "cell_type": "markdown",
   "id": "a4ff02b8-7e84-43e9-88e6-118e5c84d713",
   "metadata": {},
   "source": [
    "## reshape"
   ]
  },
  {
   "cell_type": "code",
   "execution_count": 116,
   "id": "97e6fce4-0220-4938-bc0e-1ad93cdbd8b7",
   "metadata": {},
   "outputs": [
    {
     "data": {
      "text/plain": [
       "array([[ 1,  2],\n",
       "       [ 3,  4],\n",
       "       [ 5,  6],\n",
       "       [ 7,  8],\n",
       "       [ 9, 10]])"
      ]
     },
     "execution_count": 116,
     "metadata": {},
     "output_type": "execute_result"
    }
   ],
   "source": [
    "np.arange(1,11).reshape(5,2)\n",
    "#convert 5 rows and 2 columns from 1 to 11"
   ]
  },
  {
   "cell_type": "code",
   "execution_count": 118,
   "id": "52fa5448-33f8-4a82-851e-6cc6223510d7",
   "metadata": {},
   "outputs": [
    {
     "data": {
      "text/plain": [
       "array([[ 1,  2,  3,  4,  5],\n",
       "       [ 6,  7,  8,  9, 10]])"
      ]
     },
     "execution_count": 118,
     "metadata": {},
     "output_type": "execute_result"
    }
   ],
   "source": [
    "np.arange(1,11).reshape(2,5)\n",
    "#convert 2 rows and 5 columns from 1 to 11"
   ]
  },
  {
   "cell_type": "code",
   "execution_count": 120,
   "id": "145d3682-ef87-4f13-b3e6-ea6a319dadae",
   "metadata": {},
   "outputs": [
    {
     "data": {
      "text/plain": [
       "array([[ 1,  2,  3,  4],\n",
       "       [ 5,  6,  7,  8],\n",
       "       [ 9, 10, 11, 12]])"
      ]
     },
     "execution_count": 120,
     "metadata": {},
     "output_type": "execute_result"
    }
   ],
   "source": [
    "np.arange(1,13).reshape(3,4)"
   ]
  },
  {
   "cell_type": "markdown",
   "id": "1e303f7a-af8f-46a1-b868-b72b767a44a9",
   "metadata": {},
   "source": [
    "## ones & zeros"
   ]
  },
  {
   "cell_type": "code",
   "execution_count": 123,
   "id": "eaaa7a34-bdd5-4aeb-85c8-480faf6df1ec",
   "metadata": {},
   "outputs": [
    {
     "data": {
      "text/plain": [
       "array([[1., 1.]])"
      ]
     },
     "execution_count": 123,
     "metadata": {},
     "output_type": "execute_result"
    }
   ],
   "source": [
    "np.ones((1,2))"
   ]
  },
  {
   "cell_type": "code",
   "execution_count": 125,
   "id": "de7fd689-65e6-465d-9b2b-fb02f9f5bfdc",
   "metadata": {},
   "outputs": [
    {
     "data": {
      "text/plain": [
       "array([[1., 1., 1., 1.],\n",
       "       [1., 1., 1., 1.],\n",
       "       [1., 1., 1., 1.]])"
      ]
     },
     "execution_count": 125,
     "metadata": {},
     "output_type": "execute_result"
    }
   ],
   "source": [
    "np.ones((3,4))"
   ]
  },
  {
   "cell_type": "code",
   "execution_count": 127,
   "id": "451e0299-f230-4b50-afee-aa0d63e75825",
   "metadata": {},
   "outputs": [
    {
     "data": {
      "text/plain": [
       "array([[0., 0.]])"
      ]
     },
     "execution_count": 127,
     "metadata": {},
     "output_type": "execute_result"
    }
   ],
   "source": [
    "np.zeros((1,2))"
   ]
  },
  {
   "cell_type": "code",
   "execution_count": 129,
   "id": "2a189736-21e8-4401-813c-da14cee14804",
   "metadata": {},
   "outputs": [
    {
     "data": {
      "text/plain": [
       "array([[0, 0, 0, 0],\n",
       "       [0, 0, 0, 0],\n",
       "       [0, 0, 0, 0]])"
      ]
     },
     "execution_count": 129,
     "metadata": {},
     "output_type": "execute_result"
    }
   ],
   "source": [
    "np.zeros((3,4),dtype=int)"
   ]
  },
  {
   "cell_type": "code",
   "execution_count": 131,
   "id": "fcadd8a9-cf87-43b7-a793-2ee59f5c2d04",
   "metadata": {},
   "outputs": [
    {
     "data": {
      "text/plain": [
       "array([1., 1., 1., 1., 1.])"
      ]
     },
     "execution_count": 131,
     "metadata": {},
     "output_type": "execute_result"
    }
   ],
   "source": [
    "np.ones(5)"
   ]
  },
  {
   "cell_type": "markdown",
   "id": "d20f7ab8-f655-41db-a004-03272a95e448",
   "metadata": {},
   "source": [
    "## random"
   ]
  },
  {
   "cell_type": "code",
   "execution_count": 134,
   "id": "276be193-64fe-43b3-85d7-7eeb65085122",
   "metadata": {},
   "outputs": [
    {
     "data": {
      "text/plain": [
       "array([[0.43631398, 0.73447386, 0.68441132],\n",
       "       [0.28685545, 0.180044  , 0.12855784],\n",
       "       [0.24094274, 0.52090879, 0.47344478],\n",
       "       [0.16041813, 0.11682516, 0.98432565]])"
      ]
     },
     "execution_count": 134,
     "metadata": {},
     "output_type": "execute_result"
    }
   ],
   "source": [
    "np.random.random((4,3))"
   ]
  },
  {
   "cell_type": "code",
   "execution_count": 136,
   "id": "731ea4be-5ba3-4bd2-9500-8e1cd9b014f6",
   "metadata": {},
   "outputs": [
    {
     "data": {
      "text/plain": [
       "array([[0.49475067, 0.9956699 , 0.11561348, 0.96780324],\n",
       "       [0.68881013, 0.52314469, 0.89406957, 0.31646465],\n",
       "       [0.10229489, 0.39739764, 0.11802354, 0.95537554]])"
      ]
     },
     "execution_count": 136,
     "metadata": {},
     "output_type": "execute_result"
    }
   ],
   "source": [
    "np.random.rand(3,4)"
   ]
  },
  {
   "cell_type": "code",
   "execution_count": 138,
   "id": "bed0f220-ff3f-4de2-93e3-d99d6d5238ad",
   "metadata": {},
   "outputs": [
    {
     "data": {
      "text/plain": [
       "3"
      ]
     },
     "execution_count": 138,
     "metadata": {},
     "output_type": "execute_result"
    }
   ],
   "source": [
    "np.random.randint(3,4)"
   ]
  },
  {
   "cell_type": "markdown",
   "id": "b7acc526-4d8d-4a2b-8b24-1ad68fe54d6b",
   "metadata": {},
   "source": [
    "## linspace\n",
    "\n",
    "linearly space:- linearly separable in a given range at equal distance it creates points"
   ]
  },
  {
   "cell_type": "code",
   "execution_count": 141,
   "id": "430377d6-483f-44ff-bc98-68611a34b42b",
   "metadata": {},
   "outputs": [
    {
     "data": {
      "text/plain": [
       "array([-10.        ,  -9.59183673,  -9.18367347,  -8.7755102 ,\n",
       "        -8.36734694,  -7.95918367,  -7.55102041,  -7.14285714,\n",
       "        -6.73469388,  -6.32653061,  -5.91836735,  -5.51020408,\n",
       "        -5.10204082,  -4.69387755,  -4.28571429,  -3.87755102,\n",
       "        -3.46938776,  -3.06122449,  -2.65306122,  -2.24489796,\n",
       "        -1.83673469,  -1.42857143,  -1.02040816,  -0.6122449 ,\n",
       "        -0.20408163,   0.20408163,   0.6122449 ,   1.02040816,\n",
       "         1.42857143,   1.83673469,   2.24489796,   2.65306122,\n",
       "         3.06122449,   3.46938776,   3.87755102,   4.28571429,\n",
       "         4.69387755,   5.10204082,   5.51020408,   5.91836735,\n",
       "         6.32653061,   6.73469388,   7.14285714,   7.55102041,\n",
       "         7.95918367,   8.36734694,   8.7755102 ,   9.18367347,\n",
       "         9.59183673,  10.        ])"
      ]
     },
     "execution_count": 141,
     "metadata": {},
     "output_type": "execute_result"
    }
   ],
   "source": [
    "np.linspace(-10,10)"
   ]
  },
  {
   "cell_type": "code",
   "execution_count": 143,
   "id": "4de84162-310d-4048-aecf-d081edb04fdb",
   "metadata": {},
   "outputs": [
    {
     "data": {
      "text/plain": [
       "array([-10.        ,  -7.77777778,  -5.55555556,  -3.33333333,\n",
       "        -1.11111111,   1.11111111,   3.33333333,   5.55555556,\n",
       "         7.77777778,  10.        ])"
      ]
     },
     "execution_count": 143,
     "metadata": {},
     "output_type": "execute_result"
    }
   ],
   "source": [
    "np.linspace(-10,10,10)"
   ]
  },
  {
   "cell_type": "code",
   "execution_count": 144,
   "id": "d4b428ea-7f5a-4e56-864b-15ecbfd6aa2b",
   "metadata": {},
   "outputs": [
    {
     "data": {
      "text/plain": [
       "array([ 2.        ,  2.20408163,  2.40816327,  2.6122449 ,  2.81632653,\n",
       "        3.02040816,  3.2244898 ,  3.42857143,  3.63265306,  3.83673469,\n",
       "        4.04081633,  4.24489796,  4.44897959,  4.65306122,  4.85714286,\n",
       "        5.06122449,  5.26530612,  5.46938776,  5.67346939,  5.87755102,\n",
       "        6.08163265,  6.28571429,  6.48979592,  6.69387755,  6.89795918,\n",
       "        7.10204082,  7.30612245,  7.51020408,  7.71428571,  7.91836735,\n",
       "        8.12244898,  8.32653061,  8.53061224,  8.73469388,  8.93877551,\n",
       "        9.14285714,  9.34693878,  9.55102041,  9.75510204,  9.95918367,\n",
       "       10.16326531, 10.36734694, 10.57142857, 10.7755102 , 10.97959184,\n",
       "       11.18367347, 11.3877551 , 11.59183673, 11.79591837, 12.        ])"
      ]
     },
     "execution_count": 144,
     "metadata": {},
     "output_type": "execute_result"
    }
   ],
   "source": [
    "np.linspace(2,12)"
   ]
  },
  {
   "cell_type": "code",
   "execution_count": 146,
   "id": "3d0dbacf-3ae1-4420-ae4d-2b151aadf223",
   "metadata": {},
   "outputs": [
    {
     "data": {
      "text/plain": [
       "array([-2.        , -1.71428571, -1.42857143, -1.14285714, -0.85714286,\n",
       "       -0.57142857, -0.28571429,  0.        ,  0.28571429,  0.57142857,\n",
       "        0.85714286,  1.14285714,  1.42857143,  1.71428571,  2.        ,\n",
       "        2.28571429,  2.57142857,  2.85714286,  3.14285714,  3.42857143,\n",
       "        3.71428571,  4.        ,  4.28571429,  4.57142857,  4.85714286,\n",
       "        5.14285714,  5.42857143,  5.71428571,  6.        ,  6.28571429,\n",
       "        6.57142857,  6.85714286,  7.14285714,  7.42857143,  7.71428571,\n",
       "        8.        ,  8.28571429,  8.57142857,  8.85714286,  9.14285714,\n",
       "        9.42857143,  9.71428571, 10.        , 10.28571429, 10.57142857,\n",
       "       10.85714286, 11.14285714, 11.42857143, 11.71428571, 12.        ])"
      ]
     },
     "execution_count": 146,
     "metadata": {},
     "output_type": "execute_result"
    }
   ],
   "source": [
    "np.linspace(-2,12)"
   ]
  },
  {
   "cell_type": "code",
   "execution_count": 149,
   "id": "4a67064d-345f-4a07-8eb3-4548b22a4725",
   "metadata": {},
   "outputs": [
    {
     "data": {
      "text/plain": [
       "array([-2. ,  0.8,  3.6,  6.4,  9.2, 12. ])"
      ]
     },
     "execution_count": 149,
     "metadata": {},
     "output_type": "execute_result"
    }
   ],
   "source": [
    "np.linspace(-2,12,6)"
   ]
  },
  {
   "cell_type": "markdown",
   "id": "0027ce94-9974-4a4d-8221-e2d3bf0bf090",
   "metadata": {},
   "source": [
    "## identity\n",
    "\n",
    "identity matrix is that diagnol items will be ones and everything will be zeros"
   ]
  },
  {
   "cell_type": "code",
   "execution_count": 152,
   "id": "019f4282-3d80-41e1-9cbf-8be955da1847",
   "metadata": {},
   "outputs": [
    {
     "data": {
      "text/plain": [
       "array([[1., 0., 0.],\n",
       "       [0., 1., 0.],\n",
       "       [0., 0., 1.]])"
      ]
     },
     "execution_count": 152,
     "metadata": {},
     "output_type": "execute_result"
    }
   ],
   "source": [
    "np.identity(3)"
   ]
  },
  {
   "cell_type": "code",
   "execution_count": 154,
   "id": "ef1769e9-8f3c-4924-b1bc-1cbaf572923a",
   "metadata": {},
   "outputs": [
    {
     "data": {
      "text/plain": [
       "array([[1., 0., 0., 0., 0., 0.],\n",
       "       [0., 1., 0., 0., 0., 0.],\n",
       "       [0., 0., 1., 0., 0., 0.],\n",
       "       [0., 0., 0., 1., 0., 0.],\n",
       "       [0., 0., 0., 0., 1., 0.],\n",
       "       [0., 0., 0., 0., 0., 1.]])"
      ]
     },
     "execution_count": 154,
     "metadata": {},
     "output_type": "execute_result"
    }
   ],
   "source": [
    "np.identity(6)"
   ]
  },
  {
   "cell_type": "code",
   "execution_count": 156,
   "id": "d011b753-5f0e-49b4-9bf5-f55b988b8989",
   "metadata": {},
   "outputs": [
    {
     "data": {
      "text/plain": [
       "array([[1, 0, 0],\n",
       "       [0, 1, 0],\n",
       "       [0, 0, 1]])"
      ]
     },
     "execution_count": 156,
     "metadata": {},
     "output_type": "execute_result"
    }
   ],
   "source": [
    "np.identity(3,dtype=int)"
   ]
  },
  {
   "cell_type": "markdown",
   "id": "d14fc93f-ef28-4360-8dc4-b9fd69999fd9",
   "metadata": {},
   "source": [
    "## Array Attributes"
   ]
  },
  {
   "cell_type": "code",
   "execution_count": 159,
   "id": "d161afcf-8757-4be9-8206-8cfe043b5784",
   "metadata": {},
   "outputs": [
    {
     "data": {
      "text/plain": [
       "array([0, 1, 2, 3, 4, 5, 6, 7, 8, 9])"
      ]
     },
     "execution_count": 159,
     "metadata": {},
     "output_type": "execute_result"
    }
   ],
   "source": [
    "a1=np.arange(10)\n",
    "a1"
   ]
  },
  {
   "cell_type": "code",
   "execution_count": 160,
   "id": "9afa42a9-54b3-48f6-949c-f17cc42f25d7",
   "metadata": {},
   "outputs": [
    {
     "data": {
      "text/plain": [
       "array([[ 0.,  1.,  2.,  3.],\n",
       "       [ 4.,  5.,  6.,  7.],\n",
       "       [ 8.,  9., 10., 11.]])"
      ]
     },
     "execution_count": 160,
     "metadata": {},
     "output_type": "execute_result"
    }
   ],
   "source": [
    "a2=np.arange(12,dtype=float).reshape(3,4)\n",
    "a2"
   ]
  },
  {
   "cell_type": "code",
   "execution_count": 163,
   "id": "67ac184c-f87e-4566-b50d-e284375719f6",
   "metadata": {},
   "outputs": [
    {
     "data": {
      "text/plain": [
       "array([[[0, 1],\n",
       "        [2, 3]],\n",
       "\n",
       "       [[4, 5],\n",
       "        [6, 7]]])"
      ]
     },
     "execution_count": 163,
     "metadata": {},
     "output_type": "execute_result"
    }
   ],
   "source": [
    "a3=np.arange(8).reshape(2,2,2)\n",
    "a3"
   ]
  },
  {
   "cell_type": "code",
   "execution_count": 165,
   "id": "59bc4152-7325-486f-a954-fb40005d9df7",
   "metadata": {},
   "outputs": [
    {
     "ename": "ValueError",
     "evalue": "cannot reshape array of size 8 into shape (2,2)",
     "output_type": "error",
     "traceback": [
      "\u001b[1;31m---------------------------------------------------------------------------\u001b[0m",
      "\u001b[1;31mValueError\u001b[0m                                Traceback (most recent call last)",
      "Cell \u001b[1;32mIn[165], line 1\u001b[0m\n\u001b[1;32m----> 1\u001b[0m np\u001b[38;5;241m.\u001b[39marange(\u001b[38;5;241m8\u001b[39m)\u001b[38;5;241m.\u001b[39mreshape(\u001b[38;5;241m2\u001b[39m,\u001b[38;5;241m2\u001b[39m)\n",
      "\u001b[1;31mValueError\u001b[0m: cannot reshape array of size 8 into shape (2,2)"
     ]
    }
   ],
   "source": [
    "np.arange(8).reshape(2,2)"
   ]
  },
  {
   "cell_type": "markdown",
   "id": "5dab5124-7df1-4de2-a3b4-8dba2a78f0b6",
   "metadata": {},
   "source": [
    "## ndim\n",
    "\n",
    "to findout given arrays number of dimensions"
   ]
  },
  {
   "cell_type": "code",
   "execution_count": 168,
   "id": "cda1dcac-7523-4f41-b9a6-479a334d8de6",
   "metadata": {},
   "outputs": [
    {
     "data": {
      "text/plain": [
       "array([0, 1, 2, 3, 4, 5, 6, 7, 8, 9])"
      ]
     },
     "execution_count": 168,
     "metadata": {},
     "output_type": "execute_result"
    }
   ],
   "source": [
    "a1"
   ]
  },
  {
   "cell_type": "code",
   "execution_count": 170,
   "id": "f6dc752d-824b-4b1f-bc5f-c5aad62c6ab6",
   "metadata": {},
   "outputs": [
    {
     "data": {
      "text/plain": [
       "1"
      ]
     },
     "execution_count": 170,
     "metadata": {},
     "output_type": "execute_result"
    }
   ],
   "source": [
    "a1.ndim"
   ]
  },
  {
   "cell_type": "code",
   "execution_count": 172,
   "id": "53d2ab12-2644-4c56-b021-cab5825bd68c",
   "metadata": {},
   "outputs": [
    {
     "data": {
      "text/plain": [
       "array([[ 0.,  1.,  2.,  3.],\n",
       "       [ 4.,  5.,  6.,  7.],\n",
       "       [ 8.,  9., 10., 11.]])"
      ]
     },
     "execution_count": 172,
     "metadata": {},
     "output_type": "execute_result"
    }
   ],
   "source": [
    "a2"
   ]
  },
  {
   "cell_type": "code",
   "execution_count": 174,
   "id": "f640512b-bdf7-403e-b57a-4b04a1e99a4d",
   "metadata": {},
   "outputs": [
    {
     "data": {
      "text/plain": [
       "2"
      ]
     },
     "execution_count": 174,
     "metadata": {},
     "output_type": "execute_result"
    }
   ],
   "source": [
    "a2.ndim"
   ]
  },
  {
   "cell_type": "code",
   "execution_count": 176,
   "id": "fca4cd0a-b1c0-4725-84cb-7aac851ac856",
   "metadata": {},
   "outputs": [
    {
     "data": {
      "text/plain": [
       "array([[[0, 1],\n",
       "        [2, 3]],\n",
       "\n",
       "       [[4, 5],\n",
       "        [6, 7]]])"
      ]
     },
     "execution_count": 176,
     "metadata": {},
     "output_type": "execute_result"
    }
   ],
   "source": [
    "a3"
   ]
  },
  {
   "cell_type": "code",
   "execution_count": 178,
   "id": "a8754e1b-82db-4545-b421-768507e7414e",
   "metadata": {},
   "outputs": [
    {
     "data": {
      "text/plain": [
       "3"
      ]
     },
     "execution_count": 178,
     "metadata": {},
     "output_type": "execute_result"
    }
   ],
   "source": [
    "a3.ndim"
   ]
  },
  {
   "cell_type": "markdown",
   "id": "246404fe-4399-472b-a845-a4a256f0608c",
   "metadata": {},
   "source": [
    "## shape\n",
    "\n",
    "given each item consist of no. of rows and no. of column"
   ]
  },
  {
   "cell_type": "code",
   "execution_count": 181,
   "id": "1ae2892c-ad01-49cf-9ad7-bb3c6ef99fd3",
   "metadata": {},
   "outputs": [
    {
     "data": {
      "text/plain": [
       "(10,)"
      ]
     },
     "execution_count": 181,
     "metadata": {},
     "output_type": "execute_result"
    }
   ],
   "source": [
    "a1.shape"
   ]
  },
  {
   "cell_type": "code",
   "execution_count": 183,
   "id": "46d55fd1-d8d3-42f1-924f-f705b95579ad",
   "metadata": {},
   "outputs": [
    {
     "data": {
      "text/plain": [
       "(3, 4)"
      ]
     },
     "execution_count": 183,
     "metadata": {},
     "output_type": "execute_result"
    }
   ],
   "source": [
    "a2.shape"
   ]
  },
  {
   "cell_type": "code",
   "execution_count": 185,
   "id": "2561a6b9-b9b3-48b9-96e3-9b7f3353937a",
   "metadata": {},
   "outputs": [
    {
     "data": {
      "text/plain": [
       "(2, 2, 2)"
      ]
     },
     "execution_count": 185,
     "metadata": {},
     "output_type": "execute_result"
    }
   ],
   "source": [
    "a3.shape"
   ]
  },
  {
   "cell_type": "markdown",
   "id": "b6aeef6b-b8f1-4108-b002-f5752effe260",
   "metadata": {},
   "source": [
    "## size\n",
    "\n",
    "gives number of items"
   ]
  },
  {
   "cell_type": "code",
   "execution_count": 188,
   "id": "c155e2e0-ce36-48aa-8100-5d7cede484b4",
   "metadata": {},
   "outputs": [
    {
     "data": {
      "text/plain": [
       "array([[[0, 1],\n",
       "        [2, 3]],\n",
       "\n",
       "       [[4, 5],\n",
       "        [6, 7]]])"
      ]
     },
     "execution_count": 188,
     "metadata": {},
     "output_type": "execute_result"
    }
   ],
   "source": [
    "a3"
   ]
  },
  {
   "cell_type": "code",
   "execution_count": 190,
   "id": "629e7125-2cc1-4fca-955a-6dc7c1400949",
   "metadata": {},
   "outputs": [
    {
     "data": {
      "text/plain": [
       "8"
      ]
     },
     "execution_count": 190,
     "metadata": {},
     "output_type": "execute_result"
    }
   ],
   "source": [
    "a3.size"
   ]
  },
  {
   "cell_type": "code",
   "execution_count": 192,
   "id": "23b60e80-e33e-4029-9ad8-b8b554a49943",
   "metadata": {},
   "outputs": [
    {
     "data": {
      "text/plain": [
       "array([[ 0.,  1.,  2.,  3.],\n",
       "       [ 4.,  5.,  6.,  7.],\n",
       "       [ 8.,  9., 10., 11.]])"
      ]
     },
     "execution_count": 192,
     "metadata": {},
     "output_type": "execute_result"
    }
   ],
   "source": [
    "a2"
   ]
  },
  {
   "cell_type": "code",
   "execution_count": 194,
   "id": "65b90c95-68aa-43b5-a707-466b8e9b6d73",
   "metadata": {},
   "outputs": [
    {
     "data": {
      "text/plain": [
       "12"
      ]
     },
     "execution_count": 194,
     "metadata": {},
     "output_type": "execute_result"
    }
   ],
   "source": [
    "a2.size"
   ]
  },
  {
   "cell_type": "markdown",
   "id": "c4e97694-23f6-4ae4-9bfc-7d59093fdff9",
   "metadata": {},
   "source": [
    "## item size\n",
    "\n",
    "memory occupied by the item"
   ]
  },
  {
   "cell_type": "code",
   "execution_count": 197,
   "id": "c8cee165-a63e-4d63-9cdb-b2f51223bd39",
   "metadata": {},
   "outputs": [
    {
     "data": {
      "text/plain": [
       "array([0, 1, 2, 3, 4, 5, 6, 7, 8, 9])"
      ]
     },
     "execution_count": 197,
     "metadata": {},
     "output_type": "execute_result"
    }
   ],
   "source": [
    "a1"
   ]
  },
  {
   "cell_type": "code",
   "execution_count": 199,
   "id": "0877edc7-3c38-466a-8e6a-ec0a75a8bb67",
   "metadata": {},
   "outputs": [
    {
     "data": {
      "text/plain": [
       "4"
      ]
     },
     "execution_count": 199,
     "metadata": {},
     "output_type": "execute_result"
    }
   ],
   "source": [
    "a1.itemsize"
   ]
  },
  {
   "cell_type": "code",
   "execution_count": 201,
   "id": "fc01a35a-6bf4-4839-add3-1ac4ff41d515",
   "metadata": {},
   "outputs": [
    {
     "data": {
      "text/plain": [
       "array([[ 0.,  1.,  2.,  3.],\n",
       "       [ 4.,  5.,  6.,  7.],\n",
       "       [ 8.,  9., 10., 11.]])"
      ]
     },
     "execution_count": 201,
     "metadata": {},
     "output_type": "execute_result"
    }
   ],
   "source": [
    "a2"
   ]
  },
  {
   "cell_type": "code",
   "execution_count": 203,
   "id": "98ec069f-3254-4b8d-8a35-2ea20b52934f",
   "metadata": {},
   "outputs": [
    {
     "data": {
      "text/plain": [
       "8"
      ]
     },
     "execution_count": 203,
     "metadata": {},
     "output_type": "execute_result"
    }
   ],
   "source": [
    "a2.itemsize"
   ]
  },
  {
   "cell_type": "code",
   "execution_count": 205,
   "id": "6075f8ee-1a4c-4bc5-a8da-1858f1e36599",
   "metadata": {},
   "outputs": [
    {
     "data": {
      "text/plain": [
       "4"
      ]
     },
     "execution_count": 205,
     "metadata": {},
     "output_type": "execute_result"
    }
   ],
   "source": [
    "a3.itemsize"
   ]
  },
  {
   "cell_type": "markdown",
   "id": "e8252c74-56f1-45cc-8ca2-1e5501492cbf",
   "metadata": {},
   "source": [
    "## dtype"
   ]
  },
  {
   "cell_type": "code",
   "execution_count": 208,
   "id": "2d8447b7-b822-4cac-9a1e-e1fdf51adc67",
   "metadata": {},
   "outputs": [
    {
     "name": "stdout",
     "output_type": "stream",
     "text": [
      "int32\n",
      "float64\n",
      "int32\n"
     ]
    }
   ],
   "source": [
    "print(a1.dtype)\n",
    "print(a2.dtype)\n",
    "print(a3.dtype)"
   ]
  },
  {
   "cell_type": "markdown",
   "id": "74d6398d-3161-4ec1-b92d-2d177c4345d9",
   "metadata": {},
   "source": [
    "## change dtype"
   ]
  },
  {
   "cell_type": "code",
   "execution_count": 211,
   "id": "2fee6203-8faf-4360-93fe-291a3e55637d",
   "metadata": {},
   "outputs": [
    {
     "data": {
      "text/plain": [
       "array([33. , 22. ,  2.5])"
      ]
     },
     "execution_count": 211,
     "metadata": {},
     "output_type": "execute_result"
    }
   ],
   "source": [
    "x=np.array([33,22,2.5])\n",
    "x"
   ]
  },
  {
   "cell_type": "code",
   "execution_count": 213,
   "id": "77243590-11a1-4612-99da-c1972fe169c5",
   "metadata": {},
   "outputs": [
    {
     "data": {
      "text/plain": [
       "array([33, 22,  2])"
      ]
     },
     "execution_count": 213,
     "metadata": {},
     "output_type": "execute_result"
    }
   ],
   "source": [
    "x.astype(int)"
   ]
  },
  {
   "cell_type": "code",
   "execution_count": 215,
   "id": "54df9fbb-afc1-4e7e-a9cb-141784cf8006",
   "metadata": {},
   "outputs": [
    {
     "data": {
      "text/plain": [
       "array([ True,  True,  True])"
      ]
     },
     "execution_count": 215,
     "metadata": {},
     "output_type": "execute_result"
    }
   ],
   "source": [
    "x.astype(bool)"
   ]
  },
  {
   "cell_type": "code",
   "execution_count": 217,
   "id": "aaea4d63-b18d-4715-9fc2-ea925f6f1917",
   "metadata": {},
   "outputs": [
    {
     "data": {
      "text/plain": [
       "array([33. , 22. ,  2.5])"
      ]
     },
     "execution_count": 217,
     "metadata": {},
     "output_type": "execute_result"
    }
   ],
   "source": [
    "x.astype(float)"
   ]
  },
  {
   "cell_type": "code",
   "execution_count": 219,
   "id": "b083c03a-3c24-46c3-87aa-a8a51dc50baf",
   "metadata": {},
   "outputs": [
    {
     "data": {
      "text/plain": [
       "array([33. +0.j, 22. +0.j,  2.5+0.j])"
      ]
     },
     "execution_count": 219,
     "metadata": {},
     "output_type": "execute_result"
    }
   ],
   "source": [
    "x.astype(complex)"
   ]
  },
  {
   "cell_type": "markdown",
   "id": "edcaee60-4534-4def-97ed-3ed7e21164ae",
   "metadata": {},
   "source": [
    "## Array operations"
   ]
  },
  {
   "cell_type": "code",
   "execution_count": 222,
   "id": "96583239-3a6d-4b45-bb36-13a50e8092c8",
   "metadata": {},
   "outputs": [],
   "source": [
    "z1=np.arange(12).reshape(3,4)\n",
    "z2=np.arange(12,24).reshape(3,4)"
   ]
  },
  {
   "cell_type": "code",
   "execution_count": 224,
   "id": "5f5f2977-c2e4-47c3-832d-89f31ef823d2",
   "metadata": {},
   "outputs": [
    {
     "data": {
      "text/plain": [
       "array([[ 0,  1,  2,  3],\n",
       "       [ 4,  5,  6,  7],\n",
       "       [ 8,  9, 10, 11]])"
      ]
     },
     "execution_count": 224,
     "metadata": {},
     "output_type": "execute_result"
    }
   ],
   "source": [
    "z1"
   ]
  },
  {
   "cell_type": "code",
   "execution_count": 226,
   "id": "77f6de76-c617-4545-a7f4-d51bb500fa98",
   "metadata": {},
   "outputs": [
    {
     "data": {
      "text/plain": [
       "array([[12, 13, 14, 15],\n",
       "       [16, 17, 18, 19],\n",
       "       [20, 21, 22, 23]])"
      ]
     },
     "execution_count": 226,
     "metadata": {},
     "output_type": "execute_result"
    }
   ],
   "source": [
    "z2"
   ]
  },
  {
   "cell_type": "markdown",
   "id": "d77c5dd2-62b4-4a48-b013-36f38cc48dd0",
   "metadata": {},
   "source": [
    "## scalar operations\n",
    "\n",
    "scalar operations on Numpy arrays include performing additions or subtractions or multiplications on each element of a Numpy array."
   ]
  },
  {
   "cell_type": "code",
   "execution_count": 230,
   "id": "20c72057-3fda-40c9-82e6-76803003648b",
   "metadata": {},
   "outputs": [
    {
     "data": {
      "text/plain": [
       "array([[ 2,  3,  4,  5],\n",
       "       [ 6,  7,  8,  9],\n",
       "       [10, 11, 12, 13]])"
      ]
     },
     "execution_count": 230,
     "metadata": {},
     "output_type": "execute_result"
    }
   ],
   "source": [
    "z1+2"
   ]
  },
  {
   "cell_type": "code",
   "execution_count": 232,
   "id": "95f0eedd-aa3c-4f4d-8db0-f2948a3b2413",
   "metadata": {},
   "outputs": [
    {
     "data": {
      "text/plain": [
       "array([[-2, -1,  0,  1],\n",
       "       [ 2,  3,  4,  5],\n",
       "       [ 6,  7,  8,  9]])"
      ]
     },
     "execution_count": 232,
     "metadata": {},
     "output_type": "execute_result"
    }
   ],
   "source": [
    "z1-2"
   ]
  },
  {
   "cell_type": "code",
   "execution_count": 234,
   "id": "eeae042c-d68b-4caa-921c-70230fe242e0",
   "metadata": {},
   "outputs": [
    {
     "data": {
      "text/plain": [
       "array([[ 0,  2,  4,  6],\n",
       "       [ 8, 10, 12, 14],\n",
       "       [16, 18, 20, 22]])"
      ]
     },
     "execution_count": 234,
     "metadata": {},
     "output_type": "execute_result"
    }
   ],
   "source": [
    "z1*2"
   ]
  },
  {
   "cell_type": "code",
   "execution_count": 236,
   "id": "38310710-2f03-44d7-a48f-4114f98dc895",
   "metadata": {},
   "outputs": [
    {
     "data": {
      "text/plain": [
       "array([[  0,   1,   4,   9],\n",
       "       [ 16,  25,  36,  49],\n",
       "       [ 64,  81, 100, 121]])"
      ]
     },
     "execution_count": 236,
     "metadata": {},
     "output_type": "execute_result"
    }
   ],
   "source": [
    "z1**2 #power 2"
   ]
  },
  {
   "cell_type": "code",
   "execution_count": 238,
   "id": "79461eb9-3bc8-46a4-9902-6250594ab6ff",
   "metadata": {},
   "outputs": [
    {
     "data": {
      "text/plain": [
       "array([[0, 1, 0, 1],\n",
       "       [0, 1, 0, 1],\n",
       "       [0, 1, 0, 1]], dtype=int32)"
      ]
     },
     "execution_count": 238,
     "metadata": {},
     "output_type": "execute_result"
    }
   ],
   "source": [
    "z1%2 #remainder"
   ]
  },
  {
   "cell_type": "markdown",
   "id": "ca2afd90-b978-45e6-a176-55aa8fb246b8",
   "metadata": {},
   "source": [
    "## Relational operators\n",
    "\n",
    "the relational operators are also known as comparison operators.\n",
    "Thier main function is to return either a true or false based on the value of operands."
   ]
  },
  {
   "cell_type": "code",
   "execution_count": 241,
   "id": "b6cdae7b-fb50-43ec-88de-31b727221951",
   "metadata": {},
   "outputs": [
    {
     "data": {
      "text/plain": [
       "array([[12, 13, 14, 15],\n",
       "       [16, 17, 18, 19],\n",
       "       [20, 21, 22, 23]])"
      ]
     },
     "execution_count": 241,
     "metadata": {},
     "output_type": "execute_result"
    }
   ],
   "source": [
    "z2"
   ]
  },
  {
   "cell_type": "code",
   "execution_count": 243,
   "id": "61339203-0869-49e1-a8d8-2317e3a9bd99",
   "metadata": {},
   "outputs": [
    {
     "data": {
      "text/plain": [
       "array([[ True,  True,  True,  True],\n",
       "       [ True,  True,  True,  True],\n",
       "       [ True,  True,  True,  True]])"
      ]
     },
     "execution_count": 243,
     "metadata": {},
     "output_type": "execute_result"
    }
   ],
   "source": [
    "z2>2\n",
    "# if 2 is greater than everything gives True"
   ]
  },
  {
   "cell_type": "code",
   "execution_count": 245,
   "id": "23a36c6b-c693-43c2-8863-3b66d426faca",
   "metadata": {},
   "outputs": [
    {
     "data": {
      "text/plain": [
       "array([[False, False, False, False],\n",
       "       [False, False, False, False],\n",
       "       [False,  True,  True,  True]])"
      ]
     },
     "execution_count": 245,
     "metadata": {},
     "output_type": "execute_result"
    }
   ],
   "source": [
    "z2>20"
   ]
  },
  {
   "cell_type": "code",
   "execution_count": 247,
   "id": "6bfcaff7-e340-417d-b962-b0b57e4a6026",
   "metadata": {},
   "outputs": [
    {
     "data": {
      "text/plain": [
       "array([[False, False, False, False],\n",
       "       [False, False, False, False],\n",
       "       [False, False, False, False]])"
      ]
     },
     "execution_count": 247,
     "metadata": {},
     "output_type": "execute_result"
    }
   ],
   "source": [
    "z2<2"
   ]
  },
  {
   "cell_type": "code",
   "execution_count": 249,
   "id": "c074c57d-b107-4b4e-9c95-25bbe5a39835",
   "metadata": {},
   "outputs": [
    {
     "data": {
      "text/plain": [
       "array([[ True,  True,  True,  True],\n",
       "       [ True,  True,  True,  True],\n",
       "       [False, False, False, False]])"
      ]
     },
     "execution_count": 249,
     "metadata": {},
     "output_type": "execute_result"
    }
   ],
   "source": [
    "z2<20"
   ]
  },
  {
   "cell_type": "markdown",
   "id": "ad26d01a-e803-4cd5-8b88-0bac19dc311c",
   "metadata": {},
   "source": [
    "## vector operations\n",
    "\n",
    "we can apply on both numpy array"
   ]
  },
  {
   "cell_type": "code",
   "execution_count": 252,
   "id": "e328162e-1cfc-4cf2-ad16-6e5db1691d7d",
   "metadata": {},
   "outputs": [
    {
     "data": {
      "text/plain": [
       "array([[ 0,  1,  2,  3],\n",
       "       [ 4,  5,  6,  7],\n",
       "       [ 8,  9, 10, 11]])"
      ]
     },
     "execution_count": 252,
     "metadata": {},
     "output_type": "execute_result"
    }
   ],
   "source": [
    "z1"
   ]
  },
  {
   "cell_type": "code",
   "execution_count": 254,
   "id": "45a0ec59-5e19-49e6-96cf-1d5972a7a940",
   "metadata": {},
   "outputs": [
    {
     "data": {
      "text/plain": [
       "array([[12, 13, 14, 15],\n",
       "       [16, 17, 18, 19],\n",
       "       [20, 21, 22, 23]])"
      ]
     },
     "execution_count": 254,
     "metadata": {},
     "output_type": "execute_result"
    }
   ],
   "source": [
    "z2"
   ]
  },
  {
   "cell_type": "code",
   "execution_count": 256,
   "id": "2479ba62-a15d-4159-b073-ee1eaace4fbc",
   "metadata": {},
   "outputs": [
    {
     "data": {
      "text/plain": [
       "array([[12, 14, 16, 18],\n",
       "       [20, 22, 24, 26],\n",
       "       [28, 30, 32, 34]])"
      ]
     },
     "execution_count": 256,
     "metadata": {},
     "output_type": "execute_result"
    }
   ],
   "source": [
    "z1+z2"
   ]
  },
  {
   "cell_type": "code",
   "execution_count": 258,
   "id": "d6d34d31-febf-40f3-af6e-b8d5714ddfd5",
   "metadata": {},
   "outputs": [
    {
     "data": {
      "text/plain": [
       "array([[  0,  13,  28,  45],\n",
       "       [ 64,  85, 108, 133],\n",
       "       [160, 189, 220, 253]])"
      ]
     },
     "execution_count": 258,
     "metadata": {},
     "output_type": "execute_result"
    }
   ],
   "source": [
    "z1*z2"
   ]
  },
  {
   "cell_type": "code",
   "execution_count": 260,
   "id": "6c97c05d-9df3-407e-aeef-b96e44b67b28",
   "metadata": {},
   "outputs": [
    {
     "data": {
      "text/plain": [
       "array([[-12, -12, -12, -12],\n",
       "       [-12, -12, -12, -12],\n",
       "       [-12, -12, -12, -12]])"
      ]
     },
     "execution_count": 260,
     "metadata": {},
     "output_type": "execute_result"
    }
   ],
   "source": [
    "z1-z2"
   ]
  },
  {
   "cell_type": "code",
   "execution_count": 262,
   "id": "f7268492-78ac-435e-b74c-a05eaacd40df",
   "metadata": {},
   "outputs": [
    {
     "data": {
      "text/plain": [
       "array([[0, 0, 0, 0],\n",
       "       [0, 0, 0, 0],\n",
       "       [0, 0, 0, 0]])"
      ]
     },
     "execution_count": 262,
     "metadata": {},
     "output_type": "execute_result"
    }
   ],
   "source": [
    "z1//z2"
   ]
  },
  {
   "cell_type": "code",
   "execution_count": 264,
   "id": "dda795b7-6cea-4213-91a7-cdf7b3086557",
   "metadata": {},
   "outputs": [
    {
     "data": {
      "text/plain": [
       "array([[0.        , 0.07692308, 0.14285714, 0.2       ],\n",
       "       [0.25      , 0.29411765, 0.33333333, 0.36842105],\n",
       "       [0.4       , 0.42857143, 0.45454545, 0.47826087]])"
      ]
     },
     "execution_count": 264,
     "metadata": {},
     "output_type": "execute_result"
    }
   ],
   "source": [
    "z1/z2"
   ]
  },
  {
   "cell_type": "markdown",
   "id": "23e669d4-8cfb-4725-8fb7-e5ce9e4feb16",
   "metadata": {},
   "source": [
    "## array functions"
   ]
  },
  {
   "cell_type": "code",
   "execution_count": 267,
   "id": "284b4fad-6b3a-4924-82d9-1a8ca5e9d351",
   "metadata": {},
   "outputs": [
    {
     "data": {
      "text/plain": [
       "array([[26., 64., 76.],\n",
       "       [10., 46., 62.],\n",
       "       [75., 92., 33.]])"
      ]
     },
     "execution_count": 267,
     "metadata": {},
     "output_type": "execute_result"
    }
   ],
   "source": [
    "k1=np.random.random((3,3))\n",
    "k1=np.round(k1*100)\n",
    "k1"
   ]
  },
  {
   "cell_type": "code",
   "execution_count": 269,
   "id": "609a7858-40aa-4f5d-91f2-422e270e8910",
   "metadata": {},
   "outputs": [
    {
     "data": {
      "text/plain": [
       "92.0"
      ]
     },
     "execution_count": 269,
     "metadata": {},
     "output_type": "execute_result"
    }
   ],
   "source": [
    "np.max(k1)"
   ]
  },
  {
   "cell_type": "code",
   "execution_count": 271,
   "id": "1849fec3-95f7-4077-a4fd-dca6c61f48b2",
   "metadata": {},
   "outputs": [
    {
     "data": {
      "text/plain": [
       "10.0"
      ]
     },
     "execution_count": 271,
     "metadata": {},
     "output_type": "execute_result"
    }
   ],
   "source": [
    "np.min(k1)"
   ]
  },
  {
   "cell_type": "code",
   "execution_count": 273,
   "id": "903485ec-8103-4517-bd90-142f4d113253",
   "metadata": {},
   "outputs": [
    {
     "data": {
      "text/plain": [
       "484.0"
      ]
     },
     "execution_count": 273,
     "metadata": {},
     "output_type": "execute_result"
    }
   ],
   "source": [
    "np.sum(k1)"
   ]
  },
  {
   "cell_type": "code",
   "execution_count": 275,
   "id": "d33801e8-4d93-41a2-b769-e99365fa8dac",
   "metadata": {},
   "outputs": [
    {
     "data": {
      "text/plain": [
       "821257721856000.0"
      ]
     },
     "execution_count": 275,
     "metadata": {},
     "output_type": "execute_result"
    }
   ],
   "source": [
    "np.prod(k1)\n",
    "\n",
    "# prod------> product of k1 (multiplication)"
   ]
  },
  {
   "cell_type": "markdown",
   "id": "14343224-d366-4c7f-b0d4-4755e1d98ab3",
   "metadata": {},
   "source": [
    "## in numpy\n",
    "\n",
    "0 = column & 1 = row"
   ]
  },
  {
   "cell_type": "code",
   "execution_count": 278,
   "id": "33470dd1-ef2b-41a7-adf0-f00600e5e40e",
   "metadata": {},
   "outputs": [
    {
     "data": {
      "text/plain": [
       "array([76., 62., 92.])"
      ]
     },
     "execution_count": 278,
     "metadata": {},
     "output_type": "execute_result"
    }
   ],
   "source": [
    "# if we want maximum of every row\n",
    "\n",
    "np.max(k1, axis=1)"
   ]
  },
  {
   "cell_type": "code",
   "execution_count": 280,
   "id": "3ba5080c-d2bb-42fd-87f3-3ae52c1a10bd",
   "metadata": {},
   "outputs": [
    {
     "data": {
      "text/plain": [
       "array([75., 92., 76.])"
      ]
     },
     "execution_count": 280,
     "metadata": {},
     "output_type": "execute_result"
    }
   ],
   "source": [
    "# if we want maximum of every column\n",
    "\n",
    "np.max(k1, axis=0)"
   ]
  },
  {
   "cell_type": "code",
   "execution_count": 282,
   "id": "ec907f4d-882a-4da0-a938-6b2a44939d2b",
   "metadata": {},
   "outputs": [
    {
     "data": {
      "text/plain": [
       "array([26., 10., 33.])"
      ]
     },
     "execution_count": 282,
     "metadata": {},
     "output_type": "execute_result"
    }
   ],
   "source": [
    "np.min(k1, axis=1)"
   ]
  },
  {
   "cell_type": "code",
   "execution_count": 284,
   "id": "871ff5a7-9418-4fcf-8d97-a14b05ffd588",
   "metadata": {},
   "outputs": [
    {
     "data": {
      "text/plain": [
       "array([10., 46., 33.])"
      ]
     },
     "execution_count": 284,
     "metadata": {},
     "output_type": "execute_result"
    }
   ],
   "source": [
    "np.min(k1, axis=0)"
   ]
  },
  {
   "cell_type": "code",
   "execution_count": 286,
   "id": "591d5c12-c227-4d68-9a54-165e3546fe11",
   "metadata": {},
   "outputs": [
    {
     "data": {
      "text/plain": [
       "array([126464.,  28520., 227700.])"
      ]
     },
     "execution_count": 286,
     "metadata": {},
     "output_type": "execute_result"
    }
   ],
   "source": [
    "np.prod(k1,axis=1)"
   ]
  },
  {
   "cell_type": "markdown",
   "id": "c29595ae-7aeb-4bb2-a9a4-6c4882164674",
   "metadata": {},
   "source": [
    "## Statistics related functions"
   ]
  },
  {
   "cell_type": "code",
   "execution_count": 289,
   "id": "b7c7d940-b64f-42e7-bc94-fac7c440fb96",
   "metadata": {},
   "outputs": [
    {
     "data": {
      "text/plain": [
       "array([[26., 64., 76.],\n",
       "       [10., 46., 62.],\n",
       "       [75., 92., 33.]])"
      ]
     },
     "execution_count": 289,
     "metadata": {},
     "output_type": "execute_result"
    }
   ],
   "source": [
    "k1"
   ]
  },
  {
   "cell_type": "code",
   "execution_count": 291,
   "id": "242dd23f-9647-41a5-bf8c-6c89e7ee859e",
   "metadata": {},
   "outputs": [
    {
     "data": {
      "text/plain": [
       "53.77777777777778"
      ]
     },
     "execution_count": 291,
     "metadata": {},
     "output_type": "execute_result"
    }
   ],
   "source": [
    "np.mean(k1)"
   ]
  },
  {
   "cell_type": "code",
   "execution_count": 293,
   "id": "de6bbc54-958f-4469-ab63-e5c39d3131aa",
   "metadata": {},
   "outputs": [
    {
     "data": {
      "text/plain": [
       "array([37.        , 67.33333333, 57.        ])"
      ]
     },
     "execution_count": 293,
     "metadata": {},
     "output_type": "execute_result"
    }
   ],
   "source": [
    "# mean of every column\n",
    "\n",
    "k1.mean(axis=0)"
   ]
  },
  {
   "cell_type": "code",
   "execution_count": 295,
   "id": "4a63edfb-69a8-498d-be1f-ee802e652079",
   "metadata": {},
   "outputs": [
    {
     "data": {
      "text/plain": [
       "array([55.33333333, 39.33333333, 66.66666667])"
      ]
     },
     "execution_count": 295,
     "metadata": {},
     "output_type": "execute_result"
    }
   ],
   "source": [
    "k1.mean(axis=1)"
   ]
  },
  {
   "cell_type": "code",
   "execution_count": 297,
   "id": "bca5c527-e8de-44bf-a9c7-beec087509c3",
   "metadata": {},
   "outputs": [
    {
     "data": {
      "text/plain": [
       "62.0"
      ]
     },
     "execution_count": 297,
     "metadata": {},
     "output_type": "execute_result"
    }
   ],
   "source": [
    "np.median(k1)"
   ]
  },
  {
   "cell_type": "code",
   "execution_count": 299,
   "id": "4bf7e003-ff3f-472e-88e3-7449db3d3e77",
   "metadata": {},
   "outputs": [
    {
     "data": {
      "text/plain": [
       "array([26., 64., 62.])"
      ]
     },
     "execution_count": 299,
     "metadata": {},
     "output_type": "execute_result"
    }
   ],
   "source": [
    "np.median(k1,axis=0)"
   ]
  },
  {
   "cell_type": "code",
   "execution_count": 301,
   "id": "895e28e2-1400-405d-a971-5cdab94f9873",
   "metadata": {},
   "outputs": [
    {
     "data": {
      "text/plain": [
       "array([64., 46., 75.])"
      ]
     },
     "execution_count": 301,
     "metadata": {},
     "output_type": "execute_result"
    }
   ],
   "source": [
    "np.median(k1,axis=1)"
   ]
  },
  {
   "cell_type": "code",
   "execution_count": 303,
   "id": "4122ff08-2073-48a1-8755-c41e7c30dc6d",
   "metadata": {},
   "outputs": [
    {
     "data": {
      "text/plain": [
       "25.292852647768466"
      ]
     },
     "execution_count": 303,
     "metadata": {},
     "output_type": "execute_result"
    }
   ],
   "source": [
    "# STANDARD DEVIATION\n",
    "\n",
    "np.std(k1)"
   ]
  },
  {
   "cell_type": "code",
   "execution_count": 305,
   "id": "39d00614-773f-4bdc-840d-cdcbcc3a6344",
   "metadata": {},
   "outputs": [
    {
     "data": {
      "text/plain": [
       "array([27.65260687, 18.92675942, 17.90716802])"
      ]
     },
     "execution_count": 305,
     "metadata": {},
     "output_type": "execute_result"
    }
   ],
   "source": [
    "np.std(k1,axis=0)"
   ]
  },
  {
   "cell_type": "code",
   "execution_count": 307,
   "id": "a777932e-e22d-4c1a-b062-47a405015ba0",
   "metadata": {},
   "outputs": [
    {
     "data": {
      "text/plain": [
       "639.7283950617284"
      ]
     },
     "execution_count": 307,
     "metadata": {},
     "output_type": "execute_result"
    }
   ],
   "source": [
    "# VARIANCE\n",
    "\n",
    "np.var(k1)"
   ]
  },
  {
   "cell_type": "markdown",
   "id": "26c6fb95-7f72-4aad-858e-c3b5664b1766",
   "metadata": {},
   "source": [
    "## Trignometry Functions"
   ]
  },
  {
   "cell_type": "code",
   "execution_count": 310,
   "id": "30ade0a4-bd73-489b-a4a5-87b388d20663",
   "metadata": {},
   "outputs": [
    {
     "data": {
      "text/plain": [
       "array([[ 0.76255845,  0.92002604,  0.56610764],\n",
       "       [-0.54402111,  0.90178835, -0.7391807 ],\n",
       "       [-0.38778164, -0.77946607,  0.99991186]])"
      ]
     },
     "execution_count": 310,
     "metadata": {},
     "output_type": "execute_result"
    }
   ],
   "source": [
    "np.sin(k1)"
   ]
  },
  {
   "cell_type": "code",
   "execution_count": 312,
   "id": "fafdce65-3547-4ebb-84b6-25db2b44dc7d",
   "metadata": {},
   "outputs": [
    {
     "data": {
      "text/plain": [
       "array([[  1.17875355,   2.34786031,   0.68674769],\n",
       "       [  0.64836083,  -2.08661353,  -1.09750978],\n",
       "       [ -0.42070095,   1.24427006, -75.3130148 ]])"
      ]
     },
     "execution_count": 312,
     "metadata": {},
     "output_type": "execute_result"
    }
   ],
   "source": [
    "np.tan(k1)"
   ]
  },
  {
   "cell_type": "markdown",
   "id": "3aaee560-ac04-45e5-abb6-ddb0a3ba290a",
   "metadata": {},
   "source": [
    "## dot product\n",
    "\n",
    "the numpy module of python provides a function to perform the dot product of 2 arrays."
   ]
  },
  {
   "cell_type": "code",
   "execution_count": 315,
   "id": "29565986-a283-4888-b51e-03a4830106cd",
   "metadata": {},
   "outputs": [],
   "source": [
    "s2=np.arange(12).reshape(3,4)\n",
    "s3=np.arange(12,24).reshape(4,3)"
   ]
  },
  {
   "cell_type": "code",
   "execution_count": 317,
   "id": "01de3f87-ca7a-411f-8736-b1b2f3854269",
   "metadata": {},
   "outputs": [
    {
     "data": {
      "text/plain": [
       "array([[ 0,  1,  2,  3],\n",
       "       [ 4,  5,  6,  7],\n",
       "       [ 8,  9, 10, 11]])"
      ]
     },
     "execution_count": 317,
     "metadata": {},
     "output_type": "execute_result"
    }
   ],
   "source": [
    "s2"
   ]
  },
  {
   "cell_type": "code",
   "execution_count": 319,
   "id": "1777982d-faa1-410d-bfbd-d668d834490b",
   "metadata": {},
   "outputs": [
    {
     "data": {
      "text/plain": [
       "array([[12, 13, 14],\n",
       "       [15, 16, 17],\n",
       "       [18, 19, 20],\n",
       "       [21, 22, 23]])"
      ]
     },
     "execution_count": 319,
     "metadata": {},
     "output_type": "execute_result"
    }
   ],
   "source": [
    "s3"
   ]
  },
  {
   "cell_type": "code",
   "execution_count": 321,
   "id": "5a5db91c-13b0-45c0-8b5b-e2f8c3259209",
   "metadata": {},
   "outputs": [
    {
     "data": {
      "text/plain": [
       "array([[114, 120, 126],\n",
       "       [378, 400, 422],\n",
       "       [642, 680, 718]])"
      ]
     },
     "execution_count": 321,
     "metadata": {},
     "output_type": "execute_result"
    }
   ],
   "source": [
    "np.dot(s2,s3)\n",
    "\n",
    "#dot product of s2 & s3\n",
    "# first row of s2 * first column of s3 (sum the product)"
   ]
  },
  {
   "cell_type": "markdown",
   "id": "cd0b92cf-82bd-4a3e-adc3-8339ba344fea",
   "metadata": {},
   "source": [
    "## Log and Exponents"
   ]
  },
  {
   "cell_type": "code",
   "execution_count": 324,
   "id": "4fc0c48f-ece9-45a6-b447-22c3de5f1ed7",
   "metadata": {},
   "outputs": [
    {
     "data": {
      "text/plain": [
       "array([[1.00000000e+00, 2.71828183e+00, 7.38905610e+00, 2.00855369e+01],\n",
       "       [5.45981500e+01, 1.48413159e+02, 4.03428793e+02, 1.09663316e+03],\n",
       "       [2.98095799e+03, 8.10308393e+03, 2.20264658e+04, 5.98741417e+04]])"
      ]
     },
     "execution_count": 324,
     "metadata": {},
     "output_type": "execute_result"
    }
   ],
   "source": [
    "np.exp(s2)"
   ]
  },
  {
   "cell_type": "markdown",
   "id": "8726886a-252e-4c97-9aa1-51356bd6169e",
   "metadata": {},
   "source": [
    "## round/floor/ceil\n",
    "\n",
    "## 1. round\n",
    "\n",
    "the numpy.round() function rounds the element of an array to the nearest integer or to the specified number of decimals."
   ]
  },
  {
   "cell_type": "code",
   "execution_count": 330,
   "id": "036d1711-0378-453b-a13c-db8c3f0f3d61",
   "metadata": {},
   "outputs": [
    {
     "name": "stdout",
     "output_type": "stream",
     "text": [
      "[1. 3. 4. 5.]\n"
     ]
    }
   ],
   "source": [
    "arr=np.array([1.2, 2.7, 3.5, 4.9])\n",
    "round_arr=np.round(arr)\n",
    "print(round_arr)"
   ]
  },
  {
   "cell_type": "code",
   "execution_count": 332,
   "id": "78b6a452-39f0-46dd-973c-4774207b809d",
   "metadata": {},
   "outputs": [
    {
     "name": "stdout",
     "output_type": "stream",
     "text": [
      "[1.23 2.57 3.89]\n"
     ]
    }
   ],
   "source": [
    "arr=np.array([1.234, 2.567, 3.891])\n",
    "round_arr=np.round(arr,decimals=2)\n",
    "print(round_arr)"
   ]
  },
  {
   "cell_type": "code",
   "execution_count": 334,
   "id": "2ff5ccbe-d06d-4629-9956-6053fb73af00",
   "metadata": {},
   "outputs": [
    {
     "data": {
      "text/plain": [
       "array([[19., 17., 60.],\n",
       "       [92., 51., 53.]])"
      ]
     },
     "execution_count": 334,
     "metadata": {},
     "output_type": "execute_result"
    }
   ],
   "source": [
    "np.round(np.random.random((2,3))*100)"
   ]
  },
  {
   "cell_type": "markdown",
   "id": "79175c15-30a6-4376-af9b-bfdb64f48305",
   "metadata": {},
   "source": [
    "## 2. floor\n",
    "\n",
    "the numpy.floor() function returns the largest integer less than or equal to each element of an array."
   ]
  },
  {
   "cell_type": "code",
   "execution_count": 339,
   "id": "619c946a-c462-4e94-bcfd-45b6b707f405",
   "metadata": {},
   "outputs": [
    {
     "name": "stdout",
     "output_type": "stream",
     "text": [
      "[1. 2. 3. 4.]\n"
     ]
    }
   ],
   "source": [
    "arr=np.array([1.2, 2.7, 3.5, 4.9])\n",
    "floored_arr=np.floor(arr)\n",
    "print(floored_arr)"
   ]
  },
  {
   "cell_type": "code",
   "execution_count": 341,
   "id": "1572e733-d8e3-4d55-99c1-e57c6799baf6",
   "metadata": {},
   "outputs": [
    {
     "data": {
      "text/plain": [
       "array([[24., 49., 11.],\n",
       "       [31., 36., 27.]])"
      ]
     },
     "execution_count": 341,
     "metadata": {},
     "output_type": "execute_result"
    }
   ],
   "source": [
    "np.floor(np.random.random((2,3))*100)"
   ]
  },
  {
   "cell_type": "markdown",
   "id": "b4fc6c33-7660-4f76-a473-b3e0472afdd8",
   "metadata": {},
   "source": [
    "## 3. ceil\n",
    "\n",
    "the numpy.ceil() function returns the smallest integer greater than or equal to each element of an array"
   ]
  },
  {
   "cell_type": "code",
   "execution_count": 345,
   "id": "bdd1e3cb-1f3c-4105-a675-c26a67028cf3",
   "metadata": {},
   "outputs": [
    {
     "name": "stdout",
     "output_type": "stream",
     "text": [
      "[2. 3. 4. 5.]\n"
     ]
    }
   ],
   "source": [
    "arr=np.array([1.2, 2.7, 3.5, 4.9])\n",
    "ceiled_arr=np.ceil(arr)\n",
    "print(ceiled_arr)"
   ]
  },
  {
   "cell_type": "code",
   "execution_count": 347,
   "id": "48433159-a89b-4c78-9c0a-d0aaaa60a6c5",
   "metadata": {},
   "outputs": [
    {
     "data": {
      "text/plain": [
       "array([[86., 84., 37.],\n",
       "       [45., 57., 51.]])"
      ]
     },
     "execution_count": 347,
     "metadata": {},
     "output_type": "execute_result"
    }
   ],
   "source": [
    "np.ceil(np.random.random((2,3))*100)"
   ]
  },
  {
   "cell_type": "markdown",
   "id": "2a9f97c4-c776-446d-96e8-ca9dc9693ce2",
   "metadata": {},
   "source": [
    "## Indexing"
   ]
  },
  {
   "cell_type": "code",
   "execution_count": 350,
   "id": "b44d105a-051f-4e1f-b6b2-1f03e4d1338d",
   "metadata": {},
   "outputs": [],
   "source": [
    "p1=np.arange(10)\n",
    "p2=np.arange(12).reshape(3,4)\n",
    "p3=np.arange(8).reshape(2,2,2)"
   ]
  },
  {
   "cell_type": "code",
   "execution_count": 352,
   "id": "c318bc7f-95b1-4650-b52c-7274424d4a87",
   "metadata": {},
   "outputs": [
    {
     "data": {
      "text/plain": [
       "array([0, 1, 2, 3, 4, 5, 6, 7, 8, 9])"
      ]
     },
     "execution_count": 352,
     "metadata": {},
     "output_type": "execute_result"
    }
   ],
   "source": [
    "p1"
   ]
  },
  {
   "cell_type": "code",
   "execution_count": 354,
   "id": "7a5735b3-ca6e-4e32-bb3c-066dc52661f6",
   "metadata": {},
   "outputs": [
    {
     "data": {
      "text/plain": [
       "array([[ 0,  1,  2,  3],\n",
       "       [ 4,  5,  6,  7],\n",
       "       [ 8,  9, 10, 11]])"
      ]
     },
     "execution_count": 354,
     "metadata": {},
     "output_type": "execute_result"
    }
   ],
   "source": [
    "p2"
   ]
  },
  {
   "cell_type": "code",
   "execution_count": 356,
   "id": "7e7aab45-68fb-4157-8b77-d232b0c20a46",
   "metadata": {},
   "outputs": [
    {
     "data": {
      "text/plain": [
       "array([[[0, 1],\n",
       "        [2, 3]],\n",
       "\n",
       "       [[4, 5],\n",
       "        [6, 7]]])"
      ]
     },
     "execution_count": 356,
     "metadata": {},
     "output_type": "execute_result"
    }
   ],
   "source": [
    "p3"
   ]
  },
  {
   "cell_type": "markdown",
   "id": "58bb7b85-494b-4bf5-9bff-98a3f0e717f1",
   "metadata": {},
   "source": [
    "## Indexing on 1D array"
   ]
  },
  {
   "cell_type": "code",
   "execution_count": 359,
   "id": "ac66e4de-bd04-43ae-8314-ffef31f69205",
   "metadata": {},
   "outputs": [
    {
     "data": {
      "text/plain": [
       "array([0, 1, 2, 3, 4, 5, 6, 7, 8, 9])"
      ]
     },
     "execution_count": 359,
     "metadata": {},
     "output_type": "execute_result"
    }
   ],
   "source": [
    "p1"
   ]
  },
  {
   "cell_type": "code",
   "execution_count": 361,
   "id": "7f77e23d-8575-4f3d-93f2-4be723b1b2b0",
   "metadata": {},
   "outputs": [
    {
     "data": {
      "text/plain": [
       "9"
      ]
     },
     "execution_count": 361,
     "metadata": {},
     "output_type": "execute_result"
    }
   ],
   "source": [
    "p1[-1]"
   ]
  },
  {
   "cell_type": "code",
   "execution_count": 363,
   "id": "d9fadbca-cec3-49ca-9af7-77c0a3d0b3f2",
   "metadata": {},
   "outputs": [
    {
     "data": {
      "text/plain": [
       "0"
      ]
     },
     "execution_count": 363,
     "metadata": {},
     "output_type": "execute_result"
    }
   ],
   "source": [
    "p1[0]"
   ]
  },
  {
   "cell_type": "markdown",
   "id": "60cd094b-3876-438b-838b-467876f74574",
   "metadata": {},
   "source": [
    "## Indexing on 2D array"
   ]
  },
  {
   "cell_type": "code",
   "execution_count": 366,
   "id": "386501dd-5339-48df-ad6e-11ac26d21058",
   "metadata": {},
   "outputs": [
    {
     "data": {
      "text/plain": [
       "array([[ 0,  1,  2,  3],\n",
       "       [ 4,  5,  6,  7],\n",
       "       [ 8,  9, 10, 11]])"
      ]
     },
     "execution_count": 366,
     "metadata": {},
     "output_type": "execute_result"
    }
   ],
   "source": [
    "p2"
   ]
  },
  {
   "cell_type": "code",
   "execution_count": 370,
   "id": "4760f3d6-71aa-4f8b-be96-92a668ad2218",
   "metadata": {},
   "outputs": [
    {
     "data": {
      "text/plain": [
       "6"
      ]
     },
     "execution_count": 370,
     "metadata": {},
     "output_type": "execute_result"
    }
   ],
   "source": [
    "p2[1,2]"
   ]
  },
  {
   "cell_type": "code",
   "execution_count": 372,
   "id": "64d83a43-eaf5-431f-9d93-a405c9456e6d",
   "metadata": {},
   "outputs": [
    {
     "data": {
      "text/plain": [
       "11"
      ]
     },
     "execution_count": 372,
     "metadata": {},
     "output_type": "execute_result"
    }
   ],
   "source": [
    "p2[2,3]"
   ]
  },
  {
   "cell_type": "code",
   "execution_count": 374,
   "id": "a55be121-00fd-4d81-a410-64f3c19bca19",
   "metadata": {},
   "outputs": [
    {
     "data": {
      "text/plain": [
       "4"
      ]
     },
     "execution_count": 374,
     "metadata": {},
     "output_type": "execute_result"
    }
   ],
   "source": [
    "p2[1,0]"
   ]
  },
  {
   "cell_type": "code",
   "execution_count": 376,
   "id": "e5e661c5-4a47-45ba-86be-a7b1a98ddcc2",
   "metadata": {},
   "outputs": [
    {
     "data": {
      "text/plain": [
       "9"
      ]
     },
     "execution_count": 376,
     "metadata": {},
     "output_type": "execute_result"
    }
   ],
   "source": [
    "p2[-1,-3]"
   ]
  },
  {
   "cell_type": "code",
   "execution_count": 378,
   "id": "b32c91d5-969d-41f6-a0d3-65d215e38926",
   "metadata": {},
   "outputs": [
    {
     "data": {
      "text/plain": [
       "7"
      ]
     },
     "execution_count": 378,
     "metadata": {},
     "output_type": "execute_result"
    }
   ],
   "source": [
    "p2[-2,3]"
   ]
  },
  {
   "cell_type": "code",
   "execution_count": 385,
   "id": "e1c3ce3b-d83b-48df-ae27-dc7785f9e36b",
   "metadata": {},
   "outputs": [
    {
     "ename": "IndexError",
     "evalue": "too many indices for array: array is 2-dimensional, but 3 were indexed",
     "output_type": "error",
     "traceback": [
      "\u001b[1;31m---------------------------------------------------------------------------\u001b[0m",
      "\u001b[1;31mIndexError\u001b[0m                                Traceback (most recent call last)",
      "Cell \u001b[1;32mIn[385], line 1\u001b[0m\n\u001b[1;32m----> 1\u001b[0m p2[\u001b[38;5;241m1\u001b[39m,\u001b[38;5;241m0\u001b[39m,\u001b[38;5;241m1\u001b[39m]\n",
      "\u001b[1;31mIndexError\u001b[0m: too many indices for array: array is 2-dimensional, but 3 were indexed"
     ]
    }
   ],
   "source": [
    "p2[1,0,1]"
   ]
  },
  {
   "cell_type": "markdown",
   "id": "ac14ad7d-cdd9-4c83-86d9-d50640fb0aca",
   "metadata": {},
   "source": [
    "## Indexing on 3D array (Tensors)"
   ]
  },
  {
   "cell_type": "code",
   "execution_count": 381,
   "id": "5bb28da5-c097-42f7-a4cc-55b1501c67cf",
   "metadata": {},
   "outputs": [
    {
     "data": {
      "text/plain": [
       "array([[[0, 1],\n",
       "        [2, 3]],\n",
       "\n",
       "       [[4, 5],\n",
       "        [6, 7]]])"
      ]
     },
     "execution_count": 381,
     "metadata": {},
     "output_type": "execute_result"
    }
   ],
   "source": [
    "p3"
   ]
  },
  {
   "cell_type": "code",
   "execution_count": 383,
   "id": "7a5106ab-0564-4b6a-b6b0-90672289b63f",
   "metadata": {},
   "outputs": [
    {
     "data": {
      "text/plain": [
       "5"
      ]
     },
     "execution_count": 383,
     "metadata": {},
     "output_type": "execute_result"
    }
   ],
   "source": [
    "p3[1,0,1]"
   ]
  },
  {
   "cell_type": "code",
   "execution_count": 387,
   "id": "066f0a13-ef74-45b4-bb10-c3ed5a5d9e54",
   "metadata": {},
   "outputs": [
    {
     "data": {
      "text/plain": [
       "3"
      ]
     },
     "execution_count": 387,
     "metadata": {},
     "output_type": "execute_result"
    }
   ],
   "source": [
    "p3[0,1,1]"
   ]
  },
  {
   "cell_type": "code",
   "execution_count": 389,
   "id": "a708c82a-e53d-4068-9111-25c537162c80",
   "metadata": {},
   "outputs": [
    {
     "data": {
      "text/plain": [
       "2"
      ]
     },
     "execution_count": 389,
     "metadata": {},
     "output_type": "execute_result"
    }
   ],
   "source": [
    "p3[0,1,0]"
   ]
  },
  {
   "cell_type": "code",
   "execution_count": 391,
   "id": "4a330ef2-734e-4484-b0eb-3c710f3dd8e0",
   "metadata": {},
   "outputs": [
    {
     "data": {
      "text/plain": [
       "0"
      ]
     },
     "execution_count": 391,
     "metadata": {},
     "output_type": "execute_result"
    }
   ],
   "source": [
    "p3[0,0,0]"
   ]
  },
  {
   "cell_type": "code",
   "execution_count": 393,
   "id": "6f4ebdc2-76a9-43fe-b43e-03d09f27fb32",
   "metadata": {},
   "outputs": [
    {
     "data": {
      "text/plain": [
       "6"
      ]
     },
     "execution_count": 393,
     "metadata": {},
     "output_type": "execute_result"
    }
   ],
   "source": [
    "p3[1,1,0]"
   ]
  },
  {
   "cell_type": "markdown",
   "id": "adddfa61-115a-422c-ab5f-e992ef09fa21",
   "metadata": {},
   "source": [
    "## Slicing"
   ]
  },
  {
   "cell_type": "markdown",
   "id": "70466775-52fd-4ee2-ae31-4a6b3cfbd56c",
   "metadata": {},
   "source": [
    "## slicing on 1D array"
   ]
  },
  {
   "cell_type": "code",
   "execution_count": 398,
   "id": "c1352632-14cf-496e-8623-a1b8f93c9ddf",
   "metadata": {},
   "outputs": [
    {
     "data": {
      "text/plain": [
       "array([0, 1, 2, 3, 4, 5, 6, 7, 8, 9])"
      ]
     },
     "execution_count": 398,
     "metadata": {},
     "output_type": "execute_result"
    }
   ],
   "source": [
    "p1"
   ]
  },
  {
   "cell_type": "code",
   "execution_count": 400,
   "id": "28cfe6be-3dfa-4fb5-9996-8246e1839572",
   "metadata": {},
   "outputs": [
    {
     "data": {
      "text/plain": [
       "array([2, 3, 4])"
      ]
     },
     "execution_count": 400,
     "metadata": {},
     "output_type": "execute_result"
    }
   ],
   "source": [
    "p1[2:5]"
   ]
  },
  {
   "cell_type": "code",
   "execution_count": 402,
   "id": "4d599193-dc6a-4a68-8365-7d4eb128530c",
   "metadata": {},
   "outputs": [
    {
     "data": {
      "text/plain": [
       "array([2, 4])"
      ]
     },
     "execution_count": 402,
     "metadata": {},
     "output_type": "execute_result"
    }
   ],
   "source": [
    "p1[2:5:2]"
   ]
  },
  {
   "cell_type": "markdown",
   "id": "c498c1b6-925e-4c62-9cbd-79b9ab11dea4",
   "metadata": {},
   "source": [
    "## slicing on 2D array"
   ]
  },
  {
   "cell_type": "code",
   "execution_count": 405,
   "id": "ce407e92-af56-4dd6-8139-8ebb6d6fc28e",
   "metadata": {},
   "outputs": [
    {
     "data": {
      "text/plain": [
       "array([[ 0,  1,  2,  3],\n",
       "       [ 4,  5,  6,  7],\n",
       "       [ 8,  9, 10, 11]])"
      ]
     },
     "execution_count": 405,
     "metadata": {},
     "output_type": "execute_result"
    }
   ],
   "source": [
    "p2"
   ]
  },
  {
   "cell_type": "code",
   "execution_count": 409,
   "id": "e1ea5c62-9d19-405c-936f-52beef64376d",
   "metadata": {},
   "outputs": [
    {
     "data": {
      "text/plain": [
       "array([0, 1, 2, 3])"
      ]
     },
     "execution_count": 409,
     "metadata": {},
     "output_type": "execute_result"
    }
   ],
   "source": [
    "p2[0,:]"
   ]
  },
  {
   "cell_type": "code",
   "execution_count": 411,
   "id": "dae81581-9148-49f8-9aa3-0fab56a45df1",
   "metadata": {},
   "outputs": [
    {
     "data": {
      "text/plain": [
       "array([ 2,  6, 10])"
      ]
     },
     "execution_count": 411,
     "metadata": {},
     "output_type": "execute_result"
    }
   ],
   "source": [
    "p2[:,2] "
   ]
  },
  {
   "cell_type": "code",
   "execution_count": 413,
   "id": "909e5e8b-218c-4919-b1ea-347752dfaa06",
   "metadata": {},
   "outputs": [
    {
     "data": {
      "text/plain": [
       "array([[ 4,  5,  6,  7],\n",
       "       [ 8,  9, 10, 11]])"
      ]
     },
     "execution_count": 413,
     "metadata": {},
     "output_type": "execute_result"
    }
   ],
   "source": [
    "p2[1:3]"
   ]
  },
  {
   "cell_type": "code",
   "execution_count": 415,
   "id": "5e961788-61a2-4d2c-a169-4960d440c786",
   "metadata": {},
   "outputs": [
    {
     "data": {
      "text/plain": [
       "array([[ 5,  6],\n",
       "       [ 9, 10]])"
      ]
     },
     "execution_count": 415,
     "metadata": {},
     "output_type": "execute_result"
    }
   ],
   "source": [
    "p2[1:3,1:3]"
   ]
  },
  {
   "cell_type": "code",
   "execution_count": 417,
   "id": "76e15897-2dfe-4746-a3b8-7beb74ae7f57",
   "metadata": {},
   "outputs": [
    {
     "data": {
      "text/plain": [
       "array([[ 0,  3],\n",
       "       [ 8, 11]])"
      ]
     },
     "execution_count": 417,
     "metadata": {},
     "output_type": "execute_result"
    }
   ],
   "source": [
    "p2[::2,::3]"
   ]
  },
  {
   "cell_type": "code",
   "execution_count": 419,
   "id": "c06366de-3b2c-490e-b8ac-ffe2d16a5371",
   "metadata": {},
   "outputs": [
    {
     "data": {
      "text/plain": [
       "array([[ 0,  1,  2,  3],\n",
       "       [ 8,  9, 10, 11]])"
      ]
     },
     "execution_count": 419,
     "metadata": {},
     "output_type": "execute_result"
    }
   ],
   "source": [
    "p2[::2]"
   ]
  },
  {
   "cell_type": "code",
   "execution_count": 421,
   "id": "41fbd865-1b20-42f9-acb7-8d5dfaa5c82d",
   "metadata": {},
   "outputs": [
    {
     "data": {
      "text/plain": [
       "array([[4, 5, 6, 7]])"
      ]
     },
     "execution_count": 421,
     "metadata": {},
     "output_type": "execute_result"
    }
   ],
   "source": [
    "p2[1::2]"
   ]
  },
  {
   "cell_type": "code",
   "execution_count": 423,
   "id": "c68b38b1-e40d-4922-8b50-ad99cbf1e5b4",
   "metadata": {},
   "outputs": [
    {
     "data": {
      "text/plain": [
       "array([[ 0,  1,  2,  3],\n",
       "       [ 4,  5,  6,  7],\n",
       "       [ 8,  9, 10, 11]])"
      ]
     },
     "execution_count": 423,
     "metadata": {},
     "output_type": "execute_result"
    }
   ],
   "source": [
    "p2"
   ]
  },
  {
   "cell_type": "code",
   "execution_count": 425,
   "id": "fb803a52-5761-4e84-b468-a2bb83805695",
   "metadata": {},
   "outputs": [
    {
     "data": {
      "text/plain": [
       "array([4, 5, 6, 7])"
      ]
     },
     "execution_count": 425,
     "metadata": {},
     "output_type": "execute_result"
    }
   ],
   "source": [
    "p2[1]"
   ]
  },
  {
   "cell_type": "code",
   "execution_count": 427,
   "id": "89d2b48b-d34f-43dd-ad11-f30341a93e24",
   "metadata": {},
   "outputs": [
    {
     "data": {
      "text/plain": [
       "array([4, 7])"
      ]
     },
     "execution_count": 427,
     "metadata": {},
     "output_type": "execute_result"
    }
   ],
   "source": [
    "p2[1,::3]"
   ]
  },
  {
   "cell_type": "code",
   "execution_count": 429,
   "id": "0945a50c-6192-4040-b82e-d5868468badc",
   "metadata": {},
   "outputs": [
    {
     "data": {
      "text/plain": [
       "array([[0, 1, 2, 3],\n",
       "       [4, 5, 6, 7]])"
      ]
     },
     "execution_count": 429,
     "metadata": {},
     "output_type": "execute_result"
    }
   ],
   "source": [
    "p2[0:2]"
   ]
  },
  {
   "cell_type": "code",
   "execution_count": 431,
   "id": "b85bb6f0-318f-4a41-93c2-1e6f4504fc9f",
   "metadata": {},
   "outputs": [
    {
     "data": {
      "text/plain": [
       "array([[1, 2, 3],\n",
       "       [5, 6, 7]])"
      ]
     },
     "execution_count": 431,
     "metadata": {},
     "output_type": "execute_result"
    }
   ],
   "source": [
    "p2[0:2,1:]"
   ]
  },
  {
   "cell_type": "code",
   "execution_count": 433,
   "id": "359bac7b-1bf1-4ccc-a349-aaedc475b5b4",
   "metadata": {},
   "outputs": [
    {
     "data": {
      "text/plain": [
       "array([[1, 3],\n",
       "       [5, 7]])"
      ]
     },
     "execution_count": 433,
     "metadata": {},
     "output_type": "execute_result"
    }
   ],
   "source": [
    "p2[0:2,1::2]"
   ]
  },
  {
   "cell_type": "markdown",
   "id": "0167bbc7-5907-4c59-abae-b0f46bd42c12",
   "metadata": {},
   "source": [
    "## slicing on 3D array"
   ]
  },
  {
   "cell_type": "code",
   "execution_count": 436,
   "id": "04688032-9862-4a1f-90b3-188ea06d30b9",
   "metadata": {},
   "outputs": [
    {
     "data": {
      "text/plain": [
       "array([[[ 0,  1,  2],\n",
       "        [ 3,  4,  5],\n",
       "        [ 6,  7,  8]],\n",
       "\n",
       "       [[ 9, 10, 11],\n",
       "        [12, 13, 14],\n",
       "        [15, 16, 17]],\n",
       "\n",
       "       [[18, 19, 20],\n",
       "        [21, 22, 23],\n",
       "        [24, 25, 26]]])"
      ]
     },
     "execution_count": 436,
     "metadata": {},
     "output_type": "execute_result"
    }
   ],
   "source": [
    "p3=np.arange(27).reshape(3,3,3)\n",
    "p3"
   ]
  },
  {
   "cell_type": "code",
   "execution_count": 438,
   "id": "1f3d409e-5ad4-47e8-81ff-ea8a29d55777",
   "metadata": {},
   "outputs": [
    {
     "data": {
      "text/plain": [
       "array([[ 9, 10, 11],\n",
       "       [12, 13, 14],\n",
       "       [15, 16, 17]])"
      ]
     },
     "execution_count": 438,
     "metadata": {},
     "output_type": "execute_result"
    }
   ],
   "source": [
    "p3[1]"
   ]
  },
  {
   "cell_type": "code",
   "execution_count": 440,
   "id": "c6f800cb-fa68-44be-b506-3d29d4ee2fd9",
   "metadata": {},
   "outputs": [
    {
     "data": {
      "text/plain": [
       "array([[[ 0,  1,  2],\n",
       "        [ 3,  4,  5],\n",
       "        [ 6,  7,  8]],\n",
       "\n",
       "       [[18, 19, 20],\n",
       "        [21, 22, 23],\n",
       "        [24, 25, 26]]])"
      ]
     },
     "execution_count": 440,
     "metadata": {},
     "output_type": "execute_result"
    }
   ],
   "source": [
    "p3[::2]"
   ]
  },
  {
   "cell_type": "code",
   "execution_count": 442,
   "id": "fb9657ef-bff6-42e1-86ab-62e396364ac9",
   "metadata": {},
   "outputs": [
    {
     "data": {
      "text/plain": [
       "array([[0, 1, 2],\n",
       "       [3, 4, 5],\n",
       "       [6, 7, 8]])"
      ]
     },
     "execution_count": 442,
     "metadata": {},
     "output_type": "execute_result"
    }
   ],
   "source": [
    "p3[0]"
   ]
  },
  {
   "cell_type": "code",
   "execution_count": 444,
   "id": "95374623-ed1a-41e9-88dd-890d84e2c46f",
   "metadata": {},
   "outputs": [
    {
     "data": {
      "text/plain": [
       "array([[3, 4, 5],\n",
       "       [6, 7, 8]])"
      ]
     },
     "execution_count": 444,
     "metadata": {},
     "output_type": "execute_result"
    }
   ],
   "source": [
    "p3[0,1:]"
   ]
  },
  {
   "cell_type": "code",
   "execution_count": 446,
   "id": "8cda580c-0a34-47ce-972f-00edf66ff8a9",
   "metadata": {},
   "outputs": [
    {
     "data": {
      "text/plain": [
       "array([[ 9, 10, 11]])"
      ]
     },
     "execution_count": 446,
     "metadata": {},
     "output_type": "execute_result"
    }
   ],
   "source": [
    "p3[1,:1]"
   ]
  },
  {
   "cell_type": "code",
   "execution_count": 448,
   "id": "cfa80349-ef02-4112-8727-1a35df7d34aa",
   "metadata": {},
   "outputs": [
    {
     "data": {
      "text/plain": [
       "array([10, 13, 16])"
      ]
     },
     "execution_count": 448,
     "metadata": {},
     "output_type": "execute_result"
    }
   ],
   "source": [
    "p3[1,:,1]"
   ]
  },
  {
   "cell_type": "code",
   "execution_count": 450,
   "id": "a676decd-44f3-4d95-a52a-6c3d0229930a",
   "metadata": {},
   "outputs": [
    {
     "data": {
      "text/plain": [
       "array([[18, 19, 20],\n",
       "       [21, 22, 23],\n",
       "       [24, 25, 26]])"
      ]
     },
     "execution_count": 450,
     "metadata": {},
     "output_type": "execute_result"
    }
   ],
   "source": [
    "p3[2]"
   ]
  },
  {
   "cell_type": "code",
   "execution_count": 452,
   "id": "3fb4848e-5e27-40ea-9fdb-2e2c19fa20b9",
   "metadata": {},
   "outputs": [
    {
     "data": {
      "text/plain": [
       "array([[21, 22, 23],\n",
       "       [24, 25, 26]])"
      ]
     },
     "execution_count": 452,
     "metadata": {},
     "output_type": "execute_result"
    }
   ],
   "source": [
    "p3[2,1:]"
   ]
  },
  {
   "cell_type": "code",
   "execution_count": 454,
   "id": "d6118d48-9ed7-453e-947b-365e37721874",
   "metadata": {},
   "outputs": [
    {
     "data": {
      "text/plain": [
       "array([[22, 23],\n",
       "       [25, 26]])"
      ]
     },
     "execution_count": 454,
     "metadata": {},
     "output_type": "execute_result"
    }
   ],
   "source": [
    "p3[2,1:,1:]"
   ]
  },
  {
   "cell_type": "code",
   "execution_count": 458,
   "id": "41d88d30-153b-4847-a6f3-236abb117188",
   "metadata": {},
   "outputs": [
    {
     "data": {
      "text/plain": [
       "array([[[ 0,  1,  2],\n",
       "        [ 3,  4,  5],\n",
       "        [ 6,  7,  8]],\n",
       "\n",
       "       [[ 9, 10, 11],\n",
       "        [12, 13, 14],\n",
       "        [15, 16, 17]],\n",
       "\n",
       "       [[18, 19, 20],\n",
       "        [21, 22, 23],\n",
       "        [24, 25, 26]]])"
      ]
     },
     "execution_count": 458,
     "metadata": {},
     "output_type": "execute_result"
    }
   ],
   "source": [
    "p3"
   ]
  },
  {
   "cell_type": "code",
   "execution_count": 462,
   "id": "a8403598-26c4-4800-b499-fcf2dbdbda8b",
   "metadata": {},
   "outputs": [
    {
     "data": {
      "text/plain": [
       "array([[[ 0,  1,  2],\n",
       "        [ 3,  4,  5],\n",
       "        [ 6,  7,  8]],\n",
       "\n",
       "       [[18, 19, 20],\n",
       "        [21, 22, 23],\n",
       "        [24, 25, 26]]])"
      ]
     },
     "execution_count": 462,
     "metadata": {},
     "output_type": "execute_result"
    }
   ],
   "source": [
    "p3[0::2]"
   ]
  },
  {
   "cell_type": "code",
   "execution_count": 460,
   "id": "4dbb06b1-00de-4869-bc07-b19e1e72da8e",
   "metadata": {},
   "outputs": [
    {
     "data": {
      "text/plain": [
       "array([[ 0,  1,  2],\n",
       "       [18, 19, 20]])"
      ]
     },
     "execution_count": 460,
     "metadata": {},
     "output_type": "execute_result"
    }
   ],
   "source": [
    "p3[0::2,0]"
   ]
  },
  {
   "cell_type": "markdown",
   "id": "45fd07a5-d9e4-4c00-bf77-63966e40e548",
   "metadata": {},
   "source": [
    "## Iterating"
   ]
  },
  {
   "cell_type": "code",
   "execution_count": 465,
   "id": "b25ae5b5-ea8e-4737-91a4-2f1cdb41b843",
   "metadata": {},
   "outputs": [
    {
     "data": {
      "text/plain": [
       "array([0, 1, 2, 3, 4, 5, 6, 7, 8, 9])"
      ]
     },
     "execution_count": 465,
     "metadata": {},
     "output_type": "execute_result"
    }
   ],
   "source": [
    "p1"
   ]
  },
  {
   "cell_type": "markdown",
   "id": "e1639fc6-198e-42bf-a872-03c5b730ac56",
   "metadata": {},
   "source": [
    "### looping on 1D array"
   ]
  },
  {
   "cell_type": "code",
   "execution_count": 468,
   "id": "a475089b-0e0b-4859-a7e7-c2dabc68ca2b",
   "metadata": {},
   "outputs": [
    {
     "name": "stdout",
     "output_type": "stream",
     "text": [
      "0\n",
      "1\n",
      "2\n",
      "3\n",
      "4\n",
      "5\n",
      "6\n",
      "7\n",
      "8\n",
      "9\n"
     ]
    }
   ],
   "source": [
    "for i in p1:\n",
    "    print(i)"
   ]
  },
  {
   "cell_type": "code",
   "execution_count": 470,
   "id": "c9096402-e1e5-447d-b1ab-1eb4a334c1bb",
   "metadata": {},
   "outputs": [
    {
     "data": {
      "text/plain": [
       "array([[ 0,  1,  2,  3],\n",
       "       [ 4,  5,  6,  7],\n",
       "       [ 8,  9, 10, 11]])"
      ]
     },
     "execution_count": 470,
     "metadata": {},
     "output_type": "execute_result"
    }
   ],
   "source": [
    "p2"
   ]
  },
  {
   "cell_type": "markdown",
   "id": "926d1fed-537e-420a-883a-597e4e97ebc5",
   "metadata": {},
   "source": [
    "### looping on 2D array"
   ]
  },
  {
   "cell_type": "code",
   "execution_count": 473,
   "id": "2d9c9d7f-3059-4eb6-98e8-f0b69bcae1c6",
   "metadata": {},
   "outputs": [
    {
     "name": "stdout",
     "output_type": "stream",
     "text": [
      "[0 1 2 3]\n",
      "[4 5 6 7]\n",
      "[ 8  9 10 11]\n"
     ]
    }
   ],
   "source": [
    "for i in p2:\n",
    "    print(i)"
   ]
  },
  {
   "cell_type": "code",
   "execution_count": 475,
   "id": "d96193d5-c19e-462c-a8e6-ad94b39f3ecc",
   "metadata": {},
   "outputs": [
    {
     "data": {
      "text/plain": [
       "array([[[ 0,  1,  2],\n",
       "        [ 3,  4,  5],\n",
       "        [ 6,  7,  8]],\n",
       "\n",
       "       [[ 9, 10, 11],\n",
       "        [12, 13, 14],\n",
       "        [15, 16, 17]],\n",
       "\n",
       "       [[18, 19, 20],\n",
       "        [21, 22, 23],\n",
       "        [24, 25, 26]]])"
      ]
     },
     "execution_count": 475,
     "metadata": {},
     "output_type": "execute_result"
    }
   ],
   "source": [
    "p3"
   ]
  },
  {
   "cell_type": "markdown",
   "id": "bb42f065-6ddd-4711-a161-22ab07c3d64f",
   "metadata": {},
   "source": [
    "### looping on 3D array"
   ]
  },
  {
   "cell_type": "code",
   "execution_count": 478,
   "id": "a5ef8c0e-411f-42d0-b5c2-0de886631fc5",
   "metadata": {},
   "outputs": [
    {
     "name": "stdout",
     "output_type": "stream",
     "text": [
      "[[0 1 2]\n",
      " [3 4 5]\n",
      " [6 7 8]]\n",
      "[[ 9 10 11]\n",
      " [12 13 14]\n",
      " [15 16 17]]\n",
      "[[18 19 20]\n",
      " [21 22 23]\n",
      " [24 25 26]]\n"
     ]
    }
   ],
   "source": [
    "for i in p3:\n",
    "    print(i)"
   ]
  },
  {
   "cell_type": "markdown",
   "id": "8f385097-a2ea-4a59-b23d-99759406da57",
   "metadata": {},
   "source": [
    "### \n",
    "print all items in 3D using nditer ----> first convert into 1D and apply loop"
   ]
  },
  {
   "cell_type": "code",
   "execution_count": 482,
   "id": "d95feee9-6b87-4606-9ee7-63ac208e2e4f",
   "metadata": {},
   "outputs": [
    {
     "name": "stdout",
     "output_type": "stream",
     "text": [
      "0\n",
      "1\n",
      "2\n",
      "3\n",
      "4\n",
      "5\n",
      "6\n",
      "7\n",
      "8\n",
      "9\n",
      "10\n",
      "11\n",
      "12\n",
      "13\n",
      "14\n",
      "15\n",
      "16\n",
      "17\n",
      "18\n",
      "19\n",
      "20\n",
      "21\n",
      "22\n",
      "23\n",
      "24\n",
      "25\n",
      "26\n"
     ]
    }
   ],
   "source": [
    "for i in np.nditer(p3):\n",
    "    print(i)"
   ]
  },
  {
   "cell_type": "markdown",
   "id": "b5f5a029-b302-4d03-b688-b2d998c3527b",
   "metadata": {},
   "source": [
    "## Reshaping\n",
    "\n",
    "Transpose -----> Converts rows into columns and columns into rows"
   ]
  },
  {
   "cell_type": "code",
   "execution_count": 485,
   "id": "3fcf1cf0-be41-4fdb-871e-006dee8a468e",
   "metadata": {},
   "outputs": [
    {
     "data": {
      "text/plain": [
       "array([[ 0,  1,  2,  3],\n",
       "       [ 4,  5,  6,  7],\n",
       "       [ 8,  9, 10, 11]])"
      ]
     },
     "execution_count": 485,
     "metadata": {},
     "output_type": "execute_result"
    }
   ],
   "source": [
    "p2"
   ]
  },
  {
   "cell_type": "code",
   "execution_count": 487,
   "id": "29e3c238-7dcb-4bac-874e-a1e90cfff614",
   "metadata": {},
   "outputs": [
    {
     "data": {
      "text/plain": [
       "array([[ 0,  4,  8],\n",
       "       [ 1,  5,  9],\n",
       "       [ 2,  6, 10],\n",
       "       [ 3,  7, 11]])"
      ]
     },
     "execution_count": 487,
     "metadata": {},
     "output_type": "execute_result"
    }
   ],
   "source": [
    "np.transpose(p2)"
   ]
  },
  {
   "cell_type": "code",
   "execution_count": 489,
   "id": "7ae8477a-a58d-43c5-a5b2-a6df4dc5aa0c",
   "metadata": {},
   "outputs": [
    {
     "data": {
      "text/plain": [
       "array([[ 0,  4,  8],\n",
       "       [ 1,  5,  9],\n",
       "       [ 2,  6, 10],\n",
       "       [ 3,  7, 11]])"
      ]
     },
     "execution_count": 489,
     "metadata": {},
     "output_type": "execute_result"
    }
   ],
   "source": [
    "#Another method\n",
    "\n",
    "p2.T"
   ]
  },
  {
   "cell_type": "code",
   "execution_count": 491,
   "id": "59db842e-f0de-4b06-92f2-a5ac475e2014",
   "metadata": {},
   "outputs": [
    {
     "data": {
      "text/plain": [
       "array([[[ 0,  1,  2],\n",
       "        [ 3,  4,  5],\n",
       "        [ 6,  7,  8]],\n",
       "\n",
       "       [[ 9, 10, 11],\n",
       "        [12, 13, 14],\n",
       "        [15, 16, 17]],\n",
       "\n",
       "       [[18, 19, 20],\n",
       "        [21, 22, 23],\n",
       "        [24, 25, 26]]])"
      ]
     },
     "execution_count": 491,
     "metadata": {},
     "output_type": "execute_result"
    }
   ],
   "source": [
    "p3"
   ]
  },
  {
   "cell_type": "code",
   "execution_count": 493,
   "id": "bfe59db4-5cb2-4d35-9c7c-62f881e19c7d",
   "metadata": {},
   "outputs": [
    {
     "data": {
      "text/plain": [
       "array([[[ 0,  9, 18],\n",
       "        [ 3, 12, 21],\n",
       "        [ 6, 15, 24]],\n",
       "\n",
       "       [[ 1, 10, 19],\n",
       "        [ 4, 13, 22],\n",
       "        [ 7, 16, 25]],\n",
       "\n",
       "       [[ 2, 11, 20],\n",
       "        [ 5, 14, 23],\n",
       "        [ 8, 17, 26]]])"
      ]
     },
     "execution_count": 493,
     "metadata": {},
     "output_type": "execute_result"
    }
   ],
   "source": [
    "p3.T"
   ]
  },
  {
   "cell_type": "markdown",
   "id": "3fdafd17-4b18-4b0d-9d1f-37b9af61598d",
   "metadata": {},
   "source": [
    "## Ravel\n",
    "\n",
    "converting any dimensions to 1D"
   ]
  },
  {
   "cell_type": "code",
   "execution_count": 497,
   "id": "1b6fe285-7a87-4775-b50e-5255cf24dbb7",
   "metadata": {},
   "outputs": [
    {
     "data": {
      "text/plain": [
       "array([[ 0,  1,  2,  3],\n",
       "       [ 4,  5,  6,  7],\n",
       "       [ 8,  9, 10, 11]])"
      ]
     },
     "execution_count": 497,
     "metadata": {},
     "output_type": "execute_result"
    }
   ],
   "source": [
    "p2"
   ]
  },
  {
   "cell_type": "code",
   "execution_count": 499,
   "id": "edd0e715-94b8-4788-93de-aeedd7771f5c",
   "metadata": {},
   "outputs": [
    {
     "data": {
      "text/plain": [
       "array([ 0,  1,  2,  3,  4,  5,  6,  7,  8,  9, 10, 11])"
      ]
     },
     "execution_count": 499,
     "metadata": {},
     "output_type": "execute_result"
    }
   ],
   "source": [
    "p2.ravel()"
   ]
  },
  {
   "cell_type": "code",
   "execution_count": 501,
   "id": "f3abc63f-8b89-41d2-8547-1954bd0bb64c",
   "metadata": {},
   "outputs": [
    {
     "data": {
      "text/plain": [
       "array([[[ 0,  1,  2],\n",
       "        [ 3,  4,  5],\n",
       "        [ 6,  7,  8]],\n",
       "\n",
       "       [[ 9, 10, 11],\n",
       "        [12, 13, 14],\n",
       "        [15, 16, 17]],\n",
       "\n",
       "       [[18, 19, 20],\n",
       "        [21, 22, 23],\n",
       "        [24, 25, 26]]])"
      ]
     },
     "execution_count": 501,
     "metadata": {},
     "output_type": "execute_result"
    }
   ],
   "source": [
    "p3"
   ]
  },
  {
   "cell_type": "code",
   "execution_count": 503,
   "id": "620d3e58-8ca0-47b1-a4f7-260a0b614c1c",
   "metadata": {},
   "outputs": [
    {
     "data": {
      "text/plain": [
       "array([ 0,  1,  2,  3,  4,  5,  6,  7,  8,  9, 10, 11, 12, 13, 14, 15, 16,\n",
       "       17, 18, 19, 20, 21, 22, 23, 24, 25, 26])"
      ]
     },
     "execution_count": 503,
     "metadata": {},
     "output_type": "execute_result"
    }
   ],
   "source": [
    "p3.ravel()"
   ]
  },
  {
   "cell_type": "markdown",
   "id": "a49b91a2-a90e-4170-87d6-a35d45b8335c",
   "metadata": {},
   "source": [
    "## Stacking\n",
    "\n",
    "Stacking is the concept of joining arrays in numpy.  Arrays having the same dimensions can be stacked"
   ]
  },
  {
   "cell_type": "code",
   "execution_count": 509,
   "id": "cf5c96f7-953b-4f0e-960b-4ef5a100c686",
   "metadata": {},
   "outputs": [],
   "source": [
    "#Horizontal stacking\n",
    "\n",
    "w1=np.arange(12).reshape(3,4)\n",
    "w2=np.arange(12,24).reshape(3,4)"
   ]
  },
  {
   "cell_type": "code",
   "execution_count": 511,
   "id": "734e596e-8385-46a8-8109-039c7a8e5fb2",
   "metadata": {},
   "outputs": [
    {
     "data": {
      "text/plain": [
       "array([[ 0,  1,  2,  3],\n",
       "       [ 4,  5,  6,  7],\n",
       "       [ 8,  9, 10, 11]])"
      ]
     },
     "execution_count": 511,
     "metadata": {},
     "output_type": "execute_result"
    }
   ],
   "source": [
    "w1 "
   ]
  },
  {
   "cell_type": "code",
   "execution_count": 513,
   "id": "f716e391-5dff-47a7-ab58-eaa8fbb8f4db",
   "metadata": {},
   "outputs": [
    {
     "data": {
      "text/plain": [
       "array([[12, 13, 14, 15],\n",
       "       [16, 17, 18, 19],\n",
       "       [20, 21, 22, 23]])"
      ]
     },
     "execution_count": 513,
     "metadata": {},
     "output_type": "execute_result"
    }
   ],
   "source": [
    "w2"
   ]
  },
  {
   "cell_type": "markdown",
   "id": "4ddcff47-c541-4886-b21f-325374ad1393",
   "metadata": {},
   "source": [
    "#\n",
    "using hstack for horizontal stacking"
   ]
  },
  {
   "cell_type": "code",
   "execution_count": 516,
   "id": "543327d2-2e2a-4213-b29f-77b8f2bc62c4",
   "metadata": {},
   "outputs": [
    {
     "data": {
      "text/plain": [
       "array([[ 0,  1,  2,  3, 12, 13, 14, 15],\n",
       "       [ 4,  5,  6,  7, 16, 17, 18, 19],\n",
       "       [ 8,  9, 10, 11, 20, 21, 22, 23]])"
      ]
     },
     "execution_count": 516,
     "metadata": {},
     "output_type": "execute_result"
    }
   ],
   "source": [
    "np.hstack((w1,w2))"
   ]
  },
  {
   "cell_type": "code",
   "execution_count": 518,
   "id": "b3adecb3-905d-4e4f-8fe2-ce4d4257a06a",
   "metadata": {},
   "outputs": [
    {
     "data": {
      "text/plain": [
       "array([[ 0,  1,  2,  3],\n",
       "       [ 4,  5,  6,  7],\n",
       "       [ 8,  9, 10, 11],\n",
       "       [12, 13, 14, 15],\n",
       "       [16, 17, 18, 19],\n",
       "       [20, 21, 22, 23]])"
      ]
     },
     "execution_count": 518,
     "metadata": {},
     "output_type": "execute_result"
    }
   ],
   "source": [
    "# Vertical stacking\n",
    "\n",
    "np.vstack((w1,w2))"
   ]
  },
  {
   "cell_type": "markdown",
   "id": "486c6c95-6494-477d-9ec4-e3aad9e28dc1",
   "metadata": {},
   "source": [
    "## Splitting"
   ]
  },
  {
   "cell_type": "code",
   "execution_count": 521,
   "id": "60cafc0d-fe81-4fe9-968a-c68b9b754dff",
   "metadata": {},
   "outputs": [],
   "source": [
    "# Horizontal splitting"
   ]
  },
  {
   "cell_type": "code",
   "execution_count": 523,
   "id": "2278f97b-e6f3-4a6c-a892-c40b1620e966",
   "metadata": {},
   "outputs": [
    {
     "data": {
      "text/plain": [
       "[array([[0, 1],\n",
       "        [4, 5],\n",
       "        [8, 9]]),\n",
       " array([[ 2,  3],\n",
       "        [ 6,  7],\n",
       "        [10, 11]])]"
      ]
     },
     "execution_count": 523,
     "metadata": {},
     "output_type": "execute_result"
    }
   ],
   "source": [
    "np.hsplit(w1,2)"
   ]
  },
  {
   "cell_type": "code",
   "execution_count": 525,
   "id": "f046dda9-109d-4865-a477-0ca478a52e1d",
   "metadata": {},
   "outputs": [
    {
     "data": {
      "text/plain": [
       "[array([[0],\n",
       "        [4],\n",
       "        [8]]),\n",
       " array([[1],\n",
       "        [5],\n",
       "        [9]]),\n",
       " array([[ 2],\n",
       "        [ 6],\n",
       "        [10]]),\n",
       " array([[ 3],\n",
       "        [ 7],\n",
       "        [11]])]"
      ]
     },
     "execution_count": 525,
     "metadata": {},
     "output_type": "execute_result"
    }
   ],
   "source": [
    "np.hsplit(w1,4)"
   ]
  },
  {
   "cell_type": "code",
   "execution_count": 527,
   "id": "016db276-ce7c-4b70-9627-c0981dc75d9f",
   "metadata": {},
   "outputs": [],
   "source": [
    "# Vertical spliting"
   ]
  },
  {
   "cell_type": "code",
   "execution_count": 531,
   "id": "6ce08ef6-06b6-4b5a-bca0-60a2075081f3",
   "metadata": {},
   "outputs": [
    {
     "data": {
      "text/plain": [
       "array([[12, 13, 14, 15],\n",
       "       [16, 17, 18, 19],\n",
       "       [20, 21, 22, 23]])"
      ]
     },
     "execution_count": 531,
     "metadata": {},
     "output_type": "execute_result"
    }
   ],
   "source": [
    "w2"
   ]
  },
  {
   "cell_type": "code",
   "execution_count": 535,
   "id": "8cdba2db-e3f4-408e-b782-127a360d51bc",
   "metadata": {},
   "outputs": [
    {
     "data": {
      "text/plain": [
       "[array([[12, 13, 14, 15]]),\n",
       " array([[16, 17, 18, 19]]),\n",
       " array([[20, 21, 22, 23]])]"
      ]
     },
     "execution_count": 535,
     "metadata": {},
     "output_type": "execute_result"
    }
   ],
   "source": [
    "np.vsplit(w2,3)"
   ]
  },
  {
   "cell_type": "code",
   "execution_count": null,
   "id": "c4fdcc07-be02-4e0d-878f-b83b5e1b354f",
   "metadata": {},
   "outputs": [],
   "source": []
  }
 ],
 "metadata": {
  "kernelspec": {
   "display_name": "Python 3 (ipykernel)",
   "language": "python",
   "name": "python3"
  },
  "language_info": {
   "codemirror_mode": {
    "name": "ipython",
    "version": 3
   },
   "file_extension": ".py",
   "mimetype": "text/x-python",
   "name": "python",
   "nbconvert_exporter": "python",
   "pygments_lexer": "ipython3",
   "version": "3.12.4"
  }
 },
 "nbformat": 4,
 "nbformat_minor": 5
}
